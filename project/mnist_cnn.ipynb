{
 "cells": [
  {
   "cell_type": "markdown",
   "metadata": {},
   "source": [
    "https://nextjournal.com/gkoehler/pytorch-mnist"
   ]
  },
  {
   "cell_type": "code",
   "execution_count": 1,
   "metadata": {},
   "outputs": [],
   "source": [
    "import torch\n",
    "import torchvision"
   ]
  },
  {
   "cell_type": "code",
   "execution_count": 2,
   "metadata": {},
   "outputs": [
    {
     "data": {
      "text/plain": [
       "<torch._C.Generator at 0x1135600d0>"
      ]
     },
     "execution_count": 2,
     "metadata": {},
     "output_type": "execute_result"
    }
   ],
   "source": [
    "n_epochs = 3\n",
    "batch_size_train = 64\n",
    "batch_size_test = 1000\n",
    "learning_rate = 0.01\n",
    "momentum = 0.5\n",
    "log_interval = 10\n",
    "random_seed = 1\n",
    "torch.backends.cudnn.enabled = False\n",
    "torch.manual_seed(random_seed)"
   ]
  },
  {
   "cell_type": "code",
   "execution_count": 3,
   "metadata": {},
   "outputs": [],
   "source": [
    "train_loader = torch.utils.data.DataLoader(\n",
    "  torchvision.datasets.MNIST('./data', train=True, download=True,\n",
    "                             transform=torchvision.transforms.Compose([\n",
    "                               torchvision.transforms.ToTensor(),\n",
    "                               torchvision.transforms.Normalize(\n",
    "                                 (0.1307,), (0.3081,))\n",
    "                             ])),\n",
    "  batch_size=batch_size_train, shuffle=True)\n",
    "test_loader = torch.utils.data.DataLoader(\n",
    "  torchvision.datasets.MNIST('./data', train=False, download=True,\n",
    "                             transform=torchvision.transforms.Compose([\n",
    "                               torchvision.transforms.ToTensor(),\n",
    "                               torchvision.transforms.Normalize(\n",
    "                                 (0.1307,), (0.3081,))\n",
    "                             ])),\n",
    "  batch_size=batch_size_test, shuffle=True)"
   ]
  },
  {
   "cell_type": "code",
   "execution_count": 4,
   "metadata": {},
   "outputs": [],
   "source": [
    "examples = enumerate(test_loader)\n",
    "batch_idx, (example_data, example_targets) = next(examples)"
   ]
  },
  {
   "cell_type": "code",
   "execution_count": 5,
   "metadata": {},
   "outputs": [
    {
     "data": {
      "text/plain": [
       "torch.Size([1000, 1, 28, 28])"
      ]
     },
     "execution_count": 5,
     "metadata": {},
     "output_type": "execute_result"
    }
   ],
   "source": [
    "example_data.shape"
   ]
  },
  {
   "cell_type": "code",
   "execution_count": 6,
   "metadata": {},
   "outputs": [
    {
     "data": {
      "image/png": "[encoded data removed]",
      "text/plain": [
       "<Figure size 432x288 with 6 Axes>"
      ]
     },
     "execution_count": 6,
     "metadata": {},
     "output_type": "execute_result"
    },
    {
     "data": {
      "image/png": "[encoded data removed]",
      "text/plain": [
       "<Figure size 432x288 with 6 Axes>"
      ]
     },
     "metadata": {},
     "output_type": "display_data"
    }
   ],
   "source": [
    "import matplotlib.pyplot as plt\n",
    "\n",
    "fig = plt.figure()\n",
    "for i in range(6):\n",
    "  plt.subplot(2,3,i+1)\n",
    "  plt.tight_layout()\n",
    "  plt.imshow(example_data[i][0], cmap='gray', interpolation='none')\n",
    "  plt.title(\"Ground Truth: {}\".format(example_targets[i]))\n",
    "  plt.xticks([])\n",
    "  plt.yticks([])\n",
    "fig"
   ]
  },
  {
   "cell_type": "code",
   "execution_count": 7,
   "metadata": {},
   "outputs": [],
   "source": [
    "import torch.nn as nn\n",
    "import torch.nn.functional as F\n",
    "import torch.optim as optim"
   ]
  },
  {
   "cell_type": "code",
   "execution_count": 8,
   "metadata": {},
   "outputs": [],
   "source": [
    "class Net(nn.Module):\n",
    "    def __init__(self):\n",
    "        super(Net, self).__init__()\n",
    "        self.conv1 = nn.Conv2d(1, 10, kernel_size=5)\n",
    "        self.conv2 = nn.Conv2d(10, 20, kernel_size=5)\n",
    "        self.conv2_drop = nn.Dropout2d()\n",
    "        self.fc1 = nn.Linear(320, 50)\n",
    "        self.fc2 = nn.Linear(50, 10)\n",
    "\n",
    "    def forward(self, x):\n",
    "        x = F.relu(F.max_pool2d(self.conv1(x), 2))\n",
    "        x = F.relu(F.max_pool2d(self.conv2_drop(self.conv2(x)), 2))\n",
    "        x = x.view(-1, 320)\n",
    "        x = F.relu(self.fc1(x))\n",
    "        x = F.dropout(x, training=self.training)\n",
    "        x = self.fc2(x)\n",
    "        return F.log_softmax(x)"
   ]
  },
  {
   "cell_type": "code",
   "execution_count": 9,
   "metadata": {},
   "outputs": [],
   "source": [
    "network = Net()\n",
    "optimizer = optim.SGD(network.parameters(), lr=learning_rate,\n",
    "                      momentum=momentum)"
   ]
  },
  {
   "cell_type": "code",
   "execution_count": 10,
   "metadata": {},
   "outputs": [],
   "source": [
    "train_losses = []\n",
    "train_counter = []\n",
    "test_losses = []\n",
    "test_counter = [i*len(train_loader.dataset) for i in range(n_epochs + 1)]"
   ]
  },
  {
   "cell_type": "code",
   "execution_count": 11,
   "metadata": {},
   "outputs": [],
   "source": [
    "def train(epoch):\n",
    "  network.train()\n",
    "  for batch_idx, (data, target) in enumerate(train_loader):\n",
    "    optimizer.zero_grad()\n",
    "    output = network(data)\n",
    "    loss = F.nll_loss(output, target)\n",
    "    loss.backward()\n",
    "    optimizer.step()\n",
    "    if batch_idx % log_interval == 0:\n",
    "      print('Train Epoch: {} [{}/{} ({:.0f}%)]\\tLoss: {:.6f}'.format(\n",
    "        epoch, batch_idx * len(data), len(train_loader.dataset),\n",
    "        100. * batch_idx / len(train_loader), loss.item()))\n",
    "      train_losses.append(loss.item())\n",
    "      train_counter.append(\n",
    "        (batch_idx*64) + ((epoch-1)*len(train_loader.dataset)))\n",
    "      torch.save(network.state_dict(), './model.pth')\n",
    "      torch.save(optimizer.state_dict(), './optimizer.pth')"
   ]
  },
  {
   "cell_type": "code",
   "execution_count": 12,
   "metadata": {},
   "outputs": [],
   "source": [
    "def test():\n",
    "  network.eval()\n",
    "  test_loss = 0\n",
    "  correct = 0\n",
    "  with torch.no_grad():\n",
    "    for data, target in test_loader:\n",
    "      output = network(data)\n",
    "      test_loss += F.nll_loss(output, target, size_average=False).item()\n",
    "      pred = output.data.max(1, keepdim=True)[1]\n",
    "      correct += pred.eq(target.data.view_as(pred)).sum()\n",
    "  test_loss /= len(test_loader.dataset)\n",
    "  test_losses.append(test_loss)\n",
    "  print('\\nTest set: Avg. loss: {:.4f}, Accuracy: {}/{} ({:.0f}%)\\n'.format(\n",
    "    test_loss, correct, len(test_loader.dataset),\n",
    "    100. * correct / len(test_loader.dataset)))"
   ]
  },
  {
   "cell_type": "code",
   "execution_count": 13,
   "metadata": {},
   "outputs": [
    {
     "name": "stderr",
     "output_type": "stream",
     "text": [
      "/Users/dhrutishah/opt/anaconda3/envs/iapr2020/lib/python3.6/site-packages/ipykernel_launcher.py:17: UserWarning: Implicit dimension choice for log_softmax has been deprecated. Change the call to include dim=X as an argument.\n",
      "/Users/dhrutishah/opt/anaconda3/envs/iapr2020/lib/python3.6/site-packages/torch/nn/_reduction.py:43: UserWarning: size_average and reduce args will be deprecated, please use reduction='sum' instead.\n",
      "  warnings.warn(warning.format(ret))\n"
     ]
    },
    {
     "name": "stdout",
     "output_type": "stream",
     "text": [
      "\n",
      "Test set: Avg. loss: 2.3004, Accuracy: 751/10000 (8%)\n",
      "\n",
      "Train Epoch: 1 [0/60000 (0%)]\tLoss: 2.268458\n",
      "Train Epoch: 1 [640/60000 (1%)]\tLoss: 2.268337\n",
      "Train Epoch: 1 [1280/60000 (2%)]\tLoss: 2.274000\n",
      "Train Epoch: 1 [1920/60000 (3%)]\tLoss: 2.251669\n",
      "Train Epoch: 1 [2560/60000 (4%)]\tLoss: 2.236826\n",
      "Train Epoch: 1 [3200/60000 (5%)]\tLoss: 2.223578\n",
      "Train Epoch: 1 [3840/60000 (6%)]\tLoss: 2.153440\n",
      "Train Epoch: 1 [4480/60000 (7%)]\tLoss: 2.096371\n",
      "Train Epoch: 1 [5120/60000 (9%)]\tLoss: 1.974112\n",
      "Train Epoch: 1 [5760/60000 (10%)]\tLoss: 1.944348\n",
      "Train Epoch: 1 [6400/60000 (11%)]\tLoss: 1.839604\n",
      "Train Epoch: 1 [7040/60000 (12%)]\tLoss: 1.765900\n",
      "Train Epoch: 1 [7680/60000 (13%)]\tLoss: 1.699910\n",
      "Train Epoch: 1 [8320/60000 (14%)]\tLoss: 1.690938\n",
      "Train Epoch: 1 [8960/60000 (15%)]\tLoss: 1.508513\n",
      "Train Epoch: 1 [9600/60000 (16%)]\tLoss: 1.390797\n",
      "Train Epoch: 1 [10240/60000 (17%)]\tLoss: 1.280941\n",
      "Train Epoch: 1 [10880/60000 (18%)]\tLoss: 1.327438\n",
      "Train Epoch: 1 [11520/60000 (19%)]\tLoss: 1.275452\n",
      "Train Epoch: 1 [12160/60000 (20%)]\tLoss: 1.239915\n",
      "Train Epoch: 1 [12800/60000 (21%)]\tLoss: 0.919653\n",
      "Train Epoch: 1 [13440/60000 (22%)]\tLoss: 1.397910\n",
      "Train Epoch: 1 [14080/60000 (23%)]\tLoss: 0.966769\n",
      "Train Epoch: 1 [14720/60000 (25%)]\tLoss: 1.094420\n",
      "Train Epoch: 1 [15360/60000 (26%)]\tLoss: 0.952403\n",
      "Train Epoch: 1 [16000/60000 (27%)]\tLoss: 1.040651\n",
      "Train Epoch: 1 [16640/60000 (28%)]\tLoss: 0.943310\n",
      "Train Epoch: 1 [17280/60000 (29%)]\tLoss: 0.824157\n",
      "Train Epoch: 1 [17920/60000 (30%)]\tLoss: 1.119576\n",
      "Train Epoch: 1 [18560/60000 (31%)]\tLoss: 0.646690\n",
      "Train Epoch: 1 [19200/60000 (32%)]\tLoss: 0.939307\n",
      "Train Epoch: 1 [19840/60000 (33%)]\tLoss: 0.793743\n",
      "Train Epoch: 1 [20480/60000 (34%)]\tLoss: 0.803613\n",
      "Train Epoch: 1 [21120/60000 (35%)]\tLoss: 0.762875\n",
      "Train Epoch: 1 [21760/60000 (36%)]\tLoss: 0.946853\n",
      "Train Epoch: 1 [22400/60000 (37%)]\tLoss: 0.614544\n",
      "Train Epoch: 1 [23040/60000 (38%)]\tLoss: 0.865674\n",
      "Train Epoch: 1 [23680/60000 (39%)]\tLoss: 0.639323\n",
      "Train Epoch: 1 [24320/60000 (41%)]\tLoss: 0.805754\n",
      "Train Epoch: 1 [24960/60000 (42%)]\tLoss: 0.838769\n",
      "Train Epoch: 1 [25600/60000 (43%)]\tLoss: 0.763999\n",
      "Train Epoch: 1 [26240/60000 (44%)]\tLoss: 0.725555\n",
      "Train Epoch: 1 [26880/60000 (45%)]\tLoss: 0.768489\n",
      "Train Epoch: 1 [27520/60000 (46%)]\tLoss: 0.728703\n",
      "Train Epoch: 1 [28160/60000 (47%)]\tLoss: 0.792116\n",
      "Train Epoch: 1 [28800/60000 (48%)]\tLoss: 0.714172\n",
      "Train Epoch: 1 [29440/60000 (49%)]\tLoss: 0.652039\n",
      "Train Epoch: 1 [30080/60000 (50%)]\tLoss: 1.031608\n",
      "Train Epoch: 1 [30720/60000 (51%)]\tLoss: 0.669883\n",
      "Train Epoch: 1 [31360/60000 (52%)]\tLoss: 0.893987\n",
      "Train Epoch: 1 [32000/60000 (53%)]\tLoss: 0.726695\n",
      "Train Epoch: 1 [32640/60000 (54%)]\tLoss: 0.697328\n",
      "Train Epoch: 1 [33280/60000 (55%)]\tLoss: 0.586539\n",
      "Train Epoch: 1 [33920/60000 (57%)]\tLoss: 0.464507\n",
      "Train Epoch: 1 [34560/60000 (58%)]\tLoss: 0.786336\n",
      "Train Epoch: 1 [35200/60000 (59%)]\tLoss: 0.469669\n",
      "Train Epoch: 1 [35840/60000 (60%)]\tLoss: 0.748948\n",
      "Train Epoch: 1 [36480/60000 (61%)]\tLoss: 0.340308\n",
      "Train Epoch: 1 [37120/60000 (62%)]\tLoss: 0.405861\n",
      "Train Epoch: 1 [37760/60000 (63%)]\tLoss: 0.576458\n",
      "Train Epoch: 1 [38400/60000 (64%)]\tLoss: 0.724963\n",
      "Train Epoch: 1 [39040/60000 (65%)]\tLoss: 0.427391\n",
      "Train Epoch: 1 [39680/60000 (66%)]\tLoss: 0.478396\n",
      "Train Epoch: 1 [40320/60000 (67%)]\tLoss: 0.576277\n",
      "Train Epoch: 1 [40960/60000 (68%)]\tLoss: 0.456767\n",
      "Train Epoch: 1 [41600/60000 (69%)]\tLoss: 0.407436\n",
      "Train Epoch: 1 [42240/60000 (70%)]\tLoss: 0.585923\n",
      "Train Epoch: 1 [42880/60000 (71%)]\tLoss: 0.588196\n",
      "Train Epoch: 1 [43520/60000 (72%)]\tLoss: 0.581155\n",
      "Train Epoch: 1 [44160/60000 (74%)]\tLoss: 0.490396\n",
      "Train Epoch: 1 [44800/60000 (75%)]\tLoss: 0.591540\n",
      "Train Epoch: 1 [45440/60000 (76%)]\tLoss: 0.699425\n",
      "Train Epoch: 1 [46080/60000 (77%)]\tLoss: 0.562856\n",
      "Train Epoch: 1 [46720/60000 (78%)]\tLoss: 0.873209\n",
      "Train Epoch: 1 [47360/60000 (79%)]\tLoss: 0.387525\n",
      "Train Epoch: 1 [48000/60000 (80%)]\tLoss: 0.453604\n",
      "Train Epoch: 1 [48640/60000 (81%)]\tLoss: 0.345371\n",
      "Train Epoch: 1 [49280/60000 (82%)]\tLoss: 0.574126\n",
      "Train Epoch: 1 [49920/60000 (83%)]\tLoss: 0.383404\n",
      "Train Epoch: 1 [50560/60000 (84%)]\tLoss: 0.391176\n",
      "Train Epoch: 1 [51200/60000 (85%)]\tLoss: 0.788914\n",
      "Train Epoch: 1 [51840/60000 (86%)]\tLoss: 0.455939\n",
      "Train Epoch: 1 [52480/60000 (87%)]\tLoss: 0.660776\n",
      "Train Epoch: 1 [53120/60000 (88%)]\tLoss: 0.726732\n",
      "Train Epoch: 1 [53760/60000 (90%)]\tLoss: 0.563215\n",
      "Train Epoch: 1 [54400/60000 (91%)]\tLoss: 0.441071\n",
      "Train Epoch: 1 [55040/60000 (92%)]\tLoss: 0.679214\n",
      "Train Epoch: 1 [55680/60000 (93%)]\tLoss: 0.452164\n",
      "Train Epoch: 1 [56320/60000 (94%)]\tLoss: 0.539902\n",
      "Train Epoch: 1 [56960/60000 (95%)]\tLoss: 0.567268\n",
      "Train Epoch: 1 [57600/60000 (96%)]\tLoss: 0.342995\n",
      "Train Epoch: 1 [58240/60000 (97%)]\tLoss: 0.502219\n",
      "Train Epoch: 1 [58880/60000 (98%)]\tLoss: 0.333191\n",
      "Train Epoch: 1 [59520/60000 (99%)]\tLoss: 0.474788\n",
      "\n",
      "Test set: Avg. loss: 0.1973, Accuracy: 9442/10000 (94%)\n",
      "\n",
      "Train Epoch: 2 [0/60000 (0%)]\tLoss: 0.544113\n",
      "Train Epoch: 2 [640/60000 (1%)]\tLoss: 0.307142\n",
      "Train Epoch: 2 [1280/60000 (2%)]\tLoss: 0.387555\n",
      "Train Epoch: 2 [1920/60000 (3%)]\tLoss: 0.291221\n",
      "Train Epoch: 2 [2560/60000 (4%)]\tLoss: 0.462700\n",
      "Train Epoch: 2 [3200/60000 (5%)]\tLoss: 0.689036\n",
      "Train Epoch: 2 [3840/60000 (6%)]\tLoss: 0.516148\n",
      "Train Epoch: 2 [4480/60000 (7%)]\tLoss: 0.462992\n",
      "Train Epoch: 2 [5120/60000 (9%)]\tLoss: 0.396885\n",
      "Train Epoch: 2 [5760/60000 (10%)]\tLoss: 0.472352\n",
      "Train Epoch: 2 [6400/60000 (11%)]\tLoss: 0.532507\n",
      "Train Epoch: 2 [7040/60000 (12%)]\tLoss: 0.421821\n",
      "Train Epoch: 2 [7680/60000 (13%)]\tLoss: 0.304449\n",
      "Train Epoch: 2 [8320/60000 (14%)]\tLoss: 0.356246\n",
      "Train Epoch: 2 [8960/60000 (15%)]\tLoss: 0.399419\n",
      "Train Epoch: 2 [9600/60000 (16%)]\tLoss: 0.394024\n",
      "Train Epoch: 2 [10240/60000 (17%)]\tLoss: 0.400230\n",
      "Train Epoch: 2 [10880/60000 (18%)]\tLoss: 0.592804\n",
      "Train Epoch: 2 [11520/60000 (19%)]\tLoss: 0.585641\n",
      "Train Epoch: 2 [12160/60000 (20%)]\tLoss: 0.496391\n",
      "Train Epoch: 2 [12800/60000 (21%)]\tLoss: 0.410168\n",
      "Train Epoch: 2 [13440/60000 (22%)]\tLoss: 0.487401\n",
      "Train Epoch: 2 [14080/60000 (23%)]\tLoss: 0.378005\n",
      "Train Epoch: 2 [14720/60000 (25%)]\tLoss: 0.337204\n",
      "Train Epoch: 2 [15360/60000 (26%)]\tLoss: 0.583364\n",
      "Train Epoch: 2 [16000/60000 (27%)]\tLoss: 0.381573\n",
      "Train Epoch: 2 [16640/60000 (28%)]\tLoss: 0.517250\n",
      "Train Epoch: 2 [17280/60000 (29%)]\tLoss: 0.377056\n",
      "Train Epoch: 2 [17920/60000 (30%)]\tLoss: 0.346824\n",
      "Train Epoch: 2 [18560/60000 (31%)]\tLoss: 0.374028\n",
      "Train Epoch: 2 [19200/60000 (32%)]\tLoss: 0.490297\n",
      "Train Epoch: 2 [19840/60000 (33%)]\tLoss: 0.357498\n",
      "Train Epoch: 2 [20480/60000 (34%)]\tLoss: 0.400120\n",
      "Train Epoch: 2 [21120/60000 (35%)]\tLoss: 0.694559\n",
      "Train Epoch: 2 [21760/60000 (36%)]\tLoss: 0.420559\n",
      "Train Epoch: 2 [22400/60000 (37%)]\tLoss: 0.432459\n",
      "Train Epoch: 2 [23040/60000 (38%)]\tLoss: 0.460381\n",
      "Train Epoch: 2 [23680/60000 (39%)]\tLoss: 0.419021\n",
      "Train Epoch: 2 [24320/60000 (41%)]\tLoss: 0.325351\n",
      "Train Epoch: 2 [24960/60000 (42%)]\tLoss: 0.361411\n",
      "Train Epoch: 2 [25600/60000 (43%)]\tLoss: 0.485884\n",
      "Train Epoch: 2 [26240/60000 (44%)]\tLoss: 0.342083\n",
      "Train Epoch: 2 [26880/60000 (45%)]\tLoss: 0.426775\n",
      "Train Epoch: 2 [27520/60000 (46%)]\tLoss: 0.360373\n",
      "Train Epoch: 2 [28160/60000 (47%)]\tLoss: 0.316681\n",
      "Train Epoch: 2 [28800/60000 (48%)]\tLoss: 0.462508\n",
      "Train Epoch: 2 [29440/60000 (49%)]\tLoss: 0.435725\n",
      "Train Epoch: 2 [30080/60000 (50%)]\tLoss: 0.636436\n",
      "Train Epoch: 2 [30720/60000 (51%)]\tLoss: 0.347742\n",
      "Train Epoch: 2 [31360/60000 (52%)]\tLoss: 0.389280\n",
      "Train Epoch: 2 [32000/60000 (53%)]\tLoss: 0.426014\n",
      "Train Epoch: 2 [32640/60000 (54%)]\tLoss: 0.340075\n",
      "Train Epoch: 2 [33280/60000 (55%)]\tLoss: 0.283198\n",
      "Train Epoch: 2 [33920/60000 (57%)]\tLoss: 0.362020\n",
      "Train Epoch: 2 [34560/60000 (58%)]\tLoss: 0.435749\n",
      "Train Epoch: 2 [35200/60000 (59%)]\tLoss: 0.629819\n",
      "Train Epoch: 2 [35840/60000 (60%)]\tLoss: 0.242615\n",
      "Train Epoch: 2 [36480/60000 (61%)]\tLoss: 0.503771\n",
      "Train Epoch: 2 [37120/60000 (62%)]\tLoss: 0.414534\n",
      "Train Epoch: 2 [37760/60000 (63%)]\tLoss: 0.363828\n",
      "Train Epoch: 2 [38400/60000 (64%)]\tLoss: 0.211847\n",
      "Train Epoch: 2 [39040/60000 (65%)]\tLoss: 0.328160\n",
      "Train Epoch: 2 [39680/60000 (66%)]\tLoss: 0.385337\n",
      "Train Epoch: 2 [40320/60000 (67%)]\tLoss: 0.355570\n",
      "Train Epoch: 2 [40960/60000 (68%)]\tLoss: 0.335780\n",
      "Train Epoch: 2 [41600/60000 (69%)]\tLoss: 0.315577\n",
      "Train Epoch: 2 [42240/60000 (70%)]\tLoss: 0.176631\n",
      "Train Epoch: 2 [42880/60000 (71%)]\tLoss: 0.223804\n",
      "Train Epoch: 2 [43520/60000 (72%)]\tLoss: 0.359574\n"
     ]
    },
    {
     "name": "stdout",
     "output_type": "stream",
     "text": [
      "Train Epoch: 2 [44160/60000 (74%)]\tLoss: 0.407139\n",
      "Train Epoch: 2 [44800/60000 (75%)]\tLoss: 0.443347\n",
      "Train Epoch: 2 [45440/60000 (76%)]\tLoss: 0.456845\n",
      "Train Epoch: 2 [46080/60000 (77%)]\tLoss: 0.394509\n",
      "Train Epoch: 2 [46720/60000 (78%)]\tLoss: 0.262823\n",
      "Train Epoch: 2 [47360/60000 (79%)]\tLoss: 0.272762\n",
      "Train Epoch: 2 [48000/60000 (80%)]\tLoss: 0.482020\n",
      "Train Epoch: 2 [48640/60000 (81%)]\tLoss: 0.365060\n",
      "Train Epoch: 2 [49280/60000 (82%)]\tLoss: 0.370676\n",
      "Train Epoch: 2 [49920/60000 (83%)]\tLoss: 0.327820\n",
      "Train Epoch: 2 [50560/60000 (84%)]\tLoss: 0.295574\n",
      "Train Epoch: 2 [51200/60000 (85%)]\tLoss: 0.443641\n",
      "Train Epoch: 2 [51840/60000 (86%)]\tLoss: 0.185672\n",
      "Train Epoch: 2 [52480/60000 (87%)]\tLoss: 0.394025\n",
      "Train Epoch: 2 [53120/60000 (88%)]\tLoss: 0.388714\n",
      "Train Epoch: 2 [53760/60000 (90%)]\tLoss: 0.289588\n",
      "Train Epoch: 2 [54400/60000 (91%)]\tLoss: 0.336802\n",
      "Train Epoch: 2 [55040/60000 (92%)]\tLoss: 0.367079\n",
      "Train Epoch: 2 [55680/60000 (93%)]\tLoss: 0.651645\n",
      "Train Epoch: 2 [56320/60000 (94%)]\tLoss: 0.321207\n",
      "Train Epoch: 2 [56960/60000 (95%)]\tLoss: 0.597660\n",
      "Train Epoch: 2 [57600/60000 (96%)]\tLoss: 0.395927\n",
      "Train Epoch: 2 [58240/60000 (97%)]\tLoss: 0.273708\n",
      "Train Epoch: 2 [58880/60000 (98%)]\tLoss: 0.204890\n",
      "Train Epoch: 2 [59520/60000 (99%)]\tLoss: 0.345837\n",
      "\n",
      "Test set: Avg. loss: 0.1257, Accuracy: 9613/10000 (96%)\n",
      "\n",
      "Train Epoch: 3 [0/60000 (0%)]\tLoss: 0.272492\n",
      "Train Epoch: 3 [640/60000 (1%)]\tLoss: 0.300859\n",
      "Train Epoch: 3 [1280/60000 (2%)]\tLoss: 0.380732\n",
      "Train Epoch: 3 [1920/60000 (3%)]\tLoss: 0.258783\n",
      "Train Epoch: 3 [2560/60000 (4%)]\tLoss: 0.391759\n",
      "Train Epoch: 3 [3200/60000 (5%)]\tLoss: 0.434946\n",
      "Train Epoch: 3 [3840/60000 (6%)]\tLoss: 0.400334\n",
      "Train Epoch: 3 [4480/60000 (7%)]\tLoss: 0.172456\n",
      "Train Epoch: 3 [5120/60000 (9%)]\tLoss: 0.246961\n",
      "Train Epoch: 3 [5760/60000 (10%)]\tLoss: 0.431160\n",
      "Train Epoch: 3 [6400/60000 (11%)]\tLoss: 0.348882\n",
      "Train Epoch: 3 [7040/60000 (12%)]\tLoss: 0.280290\n",
      "Train Epoch: 3 [7680/60000 (13%)]\tLoss: 0.379037\n",
      "Train Epoch: 3 [8320/60000 (14%)]\tLoss: 0.225018\n",
      "Train Epoch: 3 [8960/60000 (15%)]\tLoss: 0.404949\n",
      "Train Epoch: 3 [9600/60000 (16%)]\tLoss: 0.375599\n",
      "Train Epoch: 3 [10240/60000 (17%)]\tLoss: 0.416053\n",
      "Train Epoch: 3 [10880/60000 (18%)]\tLoss: 0.318474\n",
      "Train Epoch: 3 [11520/60000 (19%)]\tLoss: 0.269009\n",
      "Train Epoch: 3 [12160/60000 (20%)]\tLoss: 0.447529\n",
      "Train Epoch: 3 [12800/60000 (21%)]\tLoss: 0.265812\n",
      "Train Epoch: 3 [13440/60000 (22%)]\tLoss: 0.193785\n",
      "Train Epoch: 3 [14080/60000 (23%)]\tLoss: 0.218731\n",
      "Train Epoch: 3 [14720/60000 (25%)]\tLoss: 0.300155\n",
      "Train Epoch: 3 [15360/60000 (26%)]\tLoss: 0.207076\n",
      "Train Epoch: 3 [16000/60000 (27%)]\tLoss: 0.412205\n",
      "Train Epoch: 3 [16640/60000 (28%)]\tLoss: 0.282135\n",
      "Train Epoch: 3 [17280/60000 (29%)]\tLoss: 0.455746\n",
      "Train Epoch: 3 [17920/60000 (30%)]\tLoss: 0.263799\n",
      "Train Epoch: 3 [18560/60000 (31%)]\tLoss: 0.165147\n",
      "Train Epoch: 3 [19200/60000 (32%)]\tLoss: 0.574112\n",
      "Train Epoch: 3 [19840/60000 (33%)]\tLoss: 0.240843\n",
      "Train Epoch: 3 [20480/60000 (34%)]\tLoss: 0.324575\n",
      "Train Epoch: 3 [21120/60000 (35%)]\tLoss: 0.328132\n",
      "Train Epoch: 3 [21760/60000 (36%)]\tLoss: 0.274672\n",
      "Train Epoch: 3 [22400/60000 (37%)]\tLoss: 0.323063\n",
      "Train Epoch: 3 [23040/60000 (38%)]\tLoss: 0.424969\n",
      "Train Epoch: 3 [23680/60000 (39%)]\tLoss: 0.323812\n",
      "Train Epoch: 3 [24320/60000 (41%)]\tLoss: 0.343973\n",
      "Train Epoch: 3 [24960/60000 (42%)]\tLoss: 0.144033\n",
      "Train Epoch: 3 [25600/60000 (43%)]\tLoss: 0.286592\n",
      "Train Epoch: 3 [26240/60000 (44%)]\tLoss: 0.446540\n",
      "Train Epoch: 3 [26880/60000 (45%)]\tLoss: 0.253688\n",
      "Train Epoch: 3 [27520/60000 (46%)]\tLoss: 0.391949\n",
      "Train Epoch: 3 [28160/60000 (47%)]\tLoss: 0.236058\n",
      "Train Epoch: 3 [28800/60000 (48%)]\tLoss: 0.147771\n",
      "Train Epoch: 3 [29440/60000 (49%)]\tLoss: 0.188577\n",
      "Train Epoch: 3 [30080/60000 (50%)]\tLoss: 0.206242\n",
      "Train Epoch: 3 [30720/60000 (51%)]\tLoss: 0.311741\n",
      "Train Epoch: 3 [31360/60000 (52%)]\tLoss: 0.354647\n",
      "Train Epoch: 3 [32000/60000 (53%)]\tLoss: 0.314293\n",
      "Train Epoch: 3 [32640/60000 (54%)]\tLoss: 0.361180\n",
      "Train Epoch: 3 [33280/60000 (55%)]\tLoss: 0.345983\n",
      "Train Epoch: 3 [33920/60000 (57%)]\tLoss: 0.168415\n",
      "Train Epoch: 3 [34560/60000 (58%)]\tLoss: 0.298169\n",
      "Train Epoch: 3 [35200/60000 (59%)]\tLoss: 0.168424\n",
      "Train Epoch: 3 [35840/60000 (60%)]\tLoss: 0.317979\n",
      "Train Epoch: 3 [36480/60000 (61%)]\tLoss: 0.179415\n",
      "Train Epoch: 3 [37120/60000 (62%)]\tLoss: 0.414517\n",
      "Train Epoch: 3 [37760/60000 (63%)]\tLoss: 0.292437\n",
      "Train Epoch: 3 [38400/60000 (64%)]\tLoss: 0.193770\n",
      "Train Epoch: 3 [39040/60000 (65%)]\tLoss: 0.335073\n",
      "Train Epoch: 3 [39680/60000 (66%)]\tLoss: 0.134790\n",
      "Train Epoch: 3 [40320/60000 (67%)]\tLoss: 0.284905\n",
      "Train Epoch: 3 [40960/60000 (68%)]\tLoss: 0.296267\n",
      "Train Epoch: 3 [41600/60000 (69%)]\tLoss: 0.159056\n",
      "Train Epoch: 3 [42240/60000 (70%)]\tLoss: 0.188112\n",
      "Train Epoch: 3 [42880/60000 (71%)]\tLoss: 0.215888\n",
      "Train Epoch: 3 [43520/60000 (72%)]\tLoss: 0.263666\n",
      "Train Epoch: 3 [44160/60000 (74%)]\tLoss: 0.324482\n",
      "Train Epoch: 3 [44800/60000 (75%)]\tLoss: 0.237370\n",
      "Train Epoch: 3 [45440/60000 (76%)]\tLoss: 0.229307\n",
      "Train Epoch: 3 [46080/60000 (77%)]\tLoss: 0.284038\n",
      "Train Epoch: 3 [46720/60000 (78%)]\tLoss: 0.475616\n",
      "Train Epoch: 3 [47360/60000 (79%)]\tLoss: 0.353795\n",
      "Train Epoch: 3 [48000/60000 (80%)]\tLoss: 0.400477\n",
      "Train Epoch: 3 [48640/60000 (81%)]\tLoss: 0.222204\n",
      "Train Epoch: 3 [49280/60000 (82%)]\tLoss: 0.154514\n",
      "Train Epoch: 3 [49920/60000 (83%)]\tLoss: 0.488114\n",
      "Train Epoch: 3 [50560/60000 (84%)]\tLoss: 0.298248\n",
      "Train Epoch: 3 [51200/60000 (85%)]\tLoss: 0.275580\n",
      "Train Epoch: 3 [51840/60000 (86%)]\tLoss: 0.224102\n",
      "Train Epoch: 3 [52480/60000 (87%)]\tLoss: 0.207612\n",
      "Train Epoch: 3 [53120/60000 (88%)]\tLoss: 0.240668\n",
      "Train Epoch: 3 [53760/60000 (90%)]\tLoss: 0.402127\n",
      "Train Epoch: 3 [54400/60000 (91%)]\tLoss: 0.436588\n",
      "Train Epoch: 3 [55040/60000 (92%)]\tLoss: 0.275719\n",
      "Train Epoch: 3 [55680/60000 (93%)]\tLoss: 0.257324\n",
      "Train Epoch: 3 [56320/60000 (94%)]\tLoss: 0.293471\n",
      "Train Epoch: 3 [56960/60000 (95%)]\tLoss: 0.308758\n",
      "Train Epoch: 3 [57600/60000 (96%)]\tLoss: 0.173582\n",
      "Train Epoch: 3 [58240/60000 (97%)]\tLoss: 0.101992\n",
      "Train Epoch: 3 [58880/60000 (98%)]\tLoss: 0.196976\n",
      "Train Epoch: 3 [59520/60000 (99%)]\tLoss: 0.321614\n",
      "\n",
      "Test set: Avg. loss: 0.0924, Accuracy: 9719/10000 (97%)\n",
      "\n"
     ]
    }
   ],
   "source": [
    "test()\n",
    "for epoch in range(1, n_epochs + 1):\n",
    "  train(epoch)\n",
    "  test()"
   ]
  },
  {
   "cell_type": "code",
   "execution_count": 14,
   "metadata": {},
   "outputs": [
    {
     "name": "stderr",
     "output_type": "stream",
     "text": [
      "/Users/dhrutishah/opt/anaconda3/envs/iapr2020/lib/python3.6/site-packages/ipykernel_launcher.py:17: UserWarning: Implicit dimension choice for log_softmax has been deprecated. Change the call to include dim=X as an argument.\n"
     ]
    }
   ],
   "source": [
    "with torch.no_grad():\n",
    "  output = network(example_data)"
   ]
  },
  {
   "cell_type": "code",
   "execution_count": 15,
   "metadata": {},
   "outputs": [
    {
     "data": {
      "image/png": "[encoded data removed]",
      "text/plain": [
       "<Figure size 432x288 with 6 Axes>"
      ]
     },
     "execution_count": 15,
     "metadata": {},
     "output_type": "execute_result"
    },
    {
     "data": {
      "image/png": "[encoded data removed]",
      "text/plain": [
       "<Figure size 432x288 with 6 Axes>"
      ]
     },
     "metadata": {},
     "output_type": "display_data"
    }
   ],
   "source": [
    "fig = plt.figure()\n",
    "for i in range(6):\n",
    "  plt.subplot(2,3,i+1)\n",
    "  plt.tight_layout()\n",
    "  plt.imshow(example_data[i][0], cmap='gray', interpolation='none')\n",
    "  plt.title(\"Prediction: {}\".format(\n",
    "    output.data.max(1, keepdim=True)[1][i].item()))\n",
    "  plt.xticks([])\n",
    "  plt.yticks([])\n",
    "fig"
   ]
  },
  {
   "cell_type": "code",
   "execution_count": null,
   "metadata": {},
   "outputs": [],
   "source": []
  }
 ],
 "metadata": {
  "kernelspec": {
   "display_name": "Python 3",
   "language": "python",
   "name": "python3"
  },
  "language_info": {
   "codemirror_mode": {
    "name": "ipython",
    "version": 3
   },
   "file_extension": ".py",
   "mimetype": "text/x-python",
   "name": "python",
   "nbconvert_exporter": "python",
   "pygments_lexer": "ipython3",
   "version": "3.6.10"
  }
 },
 "nbformat": 4,
 "nbformat_minor": 4
}
