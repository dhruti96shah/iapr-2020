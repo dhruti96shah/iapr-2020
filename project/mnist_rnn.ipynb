{
 "cells": [
  {
   "cell_type": "markdown",
   "metadata": {},
   "source": [
    "### RNN for MNIST Classification"
   ]
  },
  {
   "cell_type": "code",
   "execution_count": 1,
   "metadata": {},
   "outputs": [],
   "source": [
    "import torch\n",
    "from torch import nn\n",
    "import torchvision.datasets as dsets\n",
    "import torchvision.transforms as transforms\n",
    "import matplotlib.pyplot as plt\n"
   ]
  },
  {
   "cell_type": "code",
   "execution_count": 2,
   "metadata": {},
   "outputs": [],
   "source": [
    "# Set the hyper parameters\n",
    "n_epochs = 10           # number of epochs to train the model\n",
    "batch_size = 64\n",
    "time_step = 28           # rnn time step / image height\n",
    "input_size = 28          # rnn input size / image width\n",
    "lr = 0.001               # learning rate\n",
    "DOWNLOAD_MNIST = True    # set to True if you have not downloaded the data before\n"
   ]
  },
  {
   "cell_type": "code",
   "execution_count": 3,
   "metadata": {},
   "outputs": [],
   "source": [
    "# Mnist digital dataset\n",
    "train_data = dsets.MNIST(\n",
    "    root='./mnist/',\n",
    "    train=True,                         # this is training data\n",
    "    transform=transforms.ToTensor(),    # Converts a PIL.Image or numpy.ndarray to\n",
    "                                        # torch.FloatTensor of shape (C x H x W) and normalize in the range [0.0, 1.0]\n",
    "    download=DOWNLOAD_MNIST,            # download MNIST dataset if not done before\n",
    ")"
   ]
  },
  {
   "cell_type": "code",
   "execution_count": 11,
   "metadata": {},
   "outputs": [
    {
     "name": "stdout",
     "output_type": "stream",
     "text": [
      "torch.Size([60000, 28, 28])\n",
      "torch.Size([60000])\n"
     ]
    },
    {
     "data": {
      "image/png": "[encoded data removed]",
      "text/plain": [
       "<Figure size 432x288 with 1 Axes>"
      ]
     },
     "metadata": {
      "needs_background": "light"
     },
     "output_type": "display_data"
    }
   ],
   "source": [
    "# plot one example\n",
    "print(train_data.train_data.size())     # (60000, 28, 28)\n",
    "print(train_data.train_labels.size())   # (60000)\n",
    "plt.imshow(train_data.train_data[0].numpy(), cmap='gray')\n",
    "plt.title('%i' % train_data.train_labels[0])\n",
    "plt.show()"
   ]
  },
  {
   "cell_type": "code",
   "execution_count": 12,
   "metadata": {},
   "outputs": [],
   "source": [
    "# Data Loader for easy mini-batch return in training\n",
    "train_loader = torch.utils.data.DataLoader(dataset=train_data, batch_size=batch_size, shuffle=True)\n",
    "\n",
    "# convert test data into Variable, pick 2000 samples for testing\n",
    "test_data = dsets.MNIST(root='./mnist/', train=False, transform=transforms.ToTensor())\n",
    "test_x = test_data.test_data.type(torch.FloatTensor)[:2000]/255.   # shape (2000, 28, 28) value in range(0,1)\n",
    "test_y = test_data.test_labels.numpy()[:2000]    # covert to numpy array"
   ]
  },
  {
   "cell_type": "code",
   "execution_count": 6,
   "metadata": {},
   "outputs": [
    {
     "name": "stdout",
     "output_type": "stream",
     "text": [
      "RNN(\n",
      "  (rnn): LSTM(28, 64, batch_first=True)\n",
      "  (out): Linear(in_features=64, out_features=10, bias=True)\n",
      ")\n"
     ]
    }
   ],
   "source": [
    "class RNN(nn.Module):\n",
    "    def __init__(self):\n",
    "        super(RNN, self).__init__()\n",
    "\n",
    "        self.rnn = nn.LSTM(         # nn.RNN(), it hardly learns\n",
    "            input_size=input_size,\n",
    "            hidden_size=64,         # rnn hidden unit\n",
    "            num_layers=1,           # number of rnn layer\n",
    "            batch_first=True,       # input & output will have batch size as 1s dimension. e.g. (batch, time_step, input_size)\n",
    "        )\n",
    "\n",
    "        self.out = nn.Linear(64, 10)\n",
    "\n",
    "    def forward(self, x):\n",
    "        # x shape (batch, time_step, input_size)\n",
    "        # r_out shape (batch, time_step, output_size)\n",
    "        # h_n shape (n_layers, batch, hidden_size)\n",
    "        # h_c shape (n_layers, batch, hidden_size)\n",
    "        r_out, (h_n, h_c) = self.rnn(x, None)   # None represents zero initial hidden state\n",
    "\n",
    "        # choose r_out at the last time step\n",
    "        out = self.out(r_out[:, -1, :])\n",
    "        return out\n",
    "\n",
    "\n",
    "rnn = RNN()\n",
    "print(rnn)\n"
   ]
  },
  {
   "cell_type": "code",
   "execution_count": 7,
   "metadata": {},
   "outputs": [],
   "source": [
    "optimizer = torch.optim.Adam(rnn.parameters(), lr=lr)   # optimize all cnn parameters\n",
    "loss_func = nn.CrossEntropyLoss()                       # the target label is not one-hotted"
   ]
  },
  {
   "cell_type": "code",
   "execution_count": 8,
   "metadata": {},
   "outputs": [
    {
     "name": "stdout",
     "output_type": "stream",
     "text": [
      "Epoch:  0 | train loss: 2.3142 | test accuracy: 0.09\n",
      "Epoch:  0 | train loss: 2.1194 | test accuracy: 0.27\n",
      "Epoch:  0 | train loss: 1.5926 | test accuracy: 0.45\n",
      "Epoch:  0 | train loss: 0.9878 | test accuracy: 0.65\n",
      "Epoch:  0 | train loss: 0.7026 | test accuracy: 0.69\n",
      "Epoch:  0 | train loss: 0.5381 | test accuracy: 0.74\n",
      "Epoch:  0 | train loss: 0.5895 | test accuracy: 0.78\n",
      "Epoch:  0 | train loss: 0.5371 | test accuracy: 0.80\n",
      "Epoch:  0 | train loss: 0.4481 | test accuracy: 0.84\n",
      "Epoch:  0 | train loss: 0.3327 | test accuracy: 0.85\n",
      "Epoch:  0 | train loss: 0.3420 | test accuracy: 0.85\n",
      "Epoch:  0 | train loss: 0.4149 | test accuracy: 0.88\n",
      "Epoch:  0 | train loss: 0.3539 | test accuracy: 0.89\n",
      "Epoch:  0 | train loss: 0.3617 | test accuracy: 0.89\n",
      "Epoch:  0 | train loss: 0.3406 | test accuracy: 0.90\n",
      "Epoch:  0 | train loss: 0.3589 | test accuracy: 0.90\n",
      "Epoch:  0 | train loss: 0.2222 | test accuracy: 0.92\n",
      "Epoch:  0 | train loss: 0.3079 | test accuracy: 0.89\n",
      "Epoch:  0 | train loss: 0.2276 | test accuracy: 0.92\n",
      "Epoch:  1 | train loss: 0.3173 | test accuracy: 0.91\n",
      "Epoch:  1 | train loss: 0.2818 | test accuracy: 0.93\n",
      "Epoch:  1 | train loss: 0.2725 | test accuracy: 0.93\n",
      "Epoch:  1 | train loss: 0.1994 | test accuracy: 0.93\n",
      "Epoch:  1 | train loss: 0.3210 | test accuracy: 0.93\n",
      "Epoch:  1 | train loss: 0.1103 | test accuracy: 0.94\n",
      "Epoch:  1 | train loss: 0.1176 | test accuracy: 0.94\n",
      "Epoch:  1 | train loss: 0.1016 | test accuracy: 0.94\n",
      "Epoch:  1 | train loss: 0.1587 | test accuracy: 0.95\n",
      "Epoch:  1 | train loss: 0.0785 | test accuracy: 0.95\n",
      "Epoch:  1 | train loss: 0.2624 | test accuracy: 0.94\n",
      "Epoch:  1 | train loss: 0.1461 | test accuracy: 0.95\n",
      "Epoch:  1 | train loss: 0.0701 | test accuracy: 0.95\n",
      "Epoch:  1 | train loss: 0.2470 | test accuracy: 0.95\n",
      "Epoch:  1 | train loss: 0.2251 | test accuracy: 0.95\n",
      "Epoch:  1 | train loss: 0.1372 | test accuracy: 0.95\n",
      "Epoch:  1 | train loss: 0.1387 | test accuracy: 0.94\n",
      "Epoch:  1 | train loss: 0.1561 | test accuracy: 0.96\n",
      "Epoch:  1 | train loss: 0.0764 | test accuracy: 0.96\n",
      "Epoch:  2 | train loss: 0.1826 | test accuracy: 0.94\n",
      "Epoch:  2 | train loss: 0.1099 | test accuracy: 0.95\n",
      "Epoch:  2 | train loss: 0.1090 | test accuracy: 0.94\n",
      "Epoch:  2 | train loss: 0.0527 | test accuracy: 0.95\n",
      "Epoch:  2 | train loss: 0.2860 | test accuracy: 0.96\n",
      "Epoch:  2 | train loss: 0.0863 | test accuracy: 0.96\n",
      "Epoch:  2 | train loss: 0.1651 | test accuracy: 0.96\n",
      "Epoch:  2 | train loss: 0.0202 | test accuracy: 0.96\n",
      "Epoch:  2 | train loss: 0.1228 | test accuracy: 0.95\n",
      "Epoch:  2 | train loss: 0.1757 | test accuracy: 0.95\n",
      "Epoch:  2 | train loss: 0.1102 | test accuracy: 0.96\n",
      "Epoch:  2 | train loss: 0.0780 | test accuracy: 0.96\n",
      "Epoch:  2 | train loss: 0.2029 | test accuracy: 0.96\n",
      "Epoch:  2 | train loss: 0.2370 | test accuracy: 0.96\n",
      "Epoch:  2 | train loss: 0.1114 | test accuracy: 0.96\n",
      "Epoch:  2 | train loss: 0.1021 | test accuracy: 0.96\n",
      "Epoch:  2 | train loss: 0.1062 | test accuracy: 0.96\n",
      "Epoch:  2 | train loss: 0.0625 | test accuracy: 0.97\n",
      "Epoch:  2 | train loss: 0.2032 | test accuracy: 0.96\n",
      "Epoch:  3 | train loss: 0.0855 | test accuracy: 0.95\n",
      "Epoch:  3 | train loss: 0.1761 | test accuracy: 0.96\n",
      "Epoch:  3 | train loss: 0.0781 | test accuracy: 0.96\n",
      "Epoch:  3 | train loss: 0.0324 | test accuracy: 0.96\n",
      "Epoch:  3 | train loss: 0.0527 | test accuracy: 0.96\n",
      "Epoch:  3 | train loss: 0.0493 | test accuracy: 0.97\n",
      "Epoch:  3 | train loss: 0.0278 | test accuracy: 0.96\n",
      "Epoch:  3 | train loss: 0.1068 | test accuracy: 0.96\n",
      "Epoch:  3 | train loss: 0.0588 | test accuracy: 0.96\n",
      "Epoch:  3 | train loss: 0.0934 | test accuracy: 0.96\n",
      "Epoch:  3 | train loss: 0.0201 | test accuracy: 0.97\n",
      "Epoch:  3 | train loss: 0.0175 | test accuracy: 0.96\n",
      "Epoch:  3 | train loss: 0.0175 | test accuracy: 0.96\n",
      "Epoch:  3 | train loss: 0.0172 | test accuracy: 0.97\n",
      "Epoch:  3 | train loss: 0.0305 | test accuracy: 0.96\n",
      "Epoch:  3 | train loss: 0.1282 | test accuracy: 0.96\n",
      "Epoch:  3 | train loss: 0.0653 | test accuracy: 0.96\n",
      "Epoch:  3 | train loss: 0.1036 | test accuracy: 0.96\n",
      "Epoch:  3 | train loss: 0.0461 | test accuracy: 0.96\n",
      "Epoch:  4 | train loss: 0.0975 | test accuracy: 0.97\n",
      "Epoch:  4 | train loss: 0.0437 | test accuracy: 0.97\n",
      "Epoch:  4 | train loss: 0.1065 | test accuracy: 0.97\n",
      "Epoch:  4 | train loss: 0.1123 | test accuracy: 0.97\n",
      "Epoch:  4 | train loss: 0.0552 | test accuracy: 0.96\n",
      "Epoch:  4 | train loss: 0.0241 | test accuracy: 0.97\n",
      "Epoch:  4 | train loss: 0.0252 | test accuracy: 0.97\n",
      "Epoch:  4 | train loss: 0.0766 | test accuracy: 0.96\n",
      "Epoch:  4 | train loss: 0.0607 | test accuracy: 0.97\n",
      "Epoch:  4 | train loss: 0.0837 | test accuracy: 0.97\n",
      "Epoch:  4 | train loss: 0.0109 | test accuracy: 0.97\n",
      "Epoch:  4 | train loss: 0.0711 | test accuracy: 0.96\n",
      "Epoch:  4 | train loss: 0.0726 | test accuracy: 0.96\n",
      "Epoch:  4 | train loss: 0.1356 | test accuracy: 0.97\n",
      "Epoch:  4 | train loss: 0.0190 | test accuracy: 0.97\n",
      "Epoch:  4 | train loss: 0.0569 | test accuracy: 0.97\n",
      "Epoch:  4 | train loss: 0.0745 | test accuracy: 0.96\n",
      "Epoch:  4 | train loss: 0.0268 | test accuracy: 0.97\n",
      "Epoch:  4 | train loss: 0.1964 | test accuracy: 0.97\n",
      "Epoch:  5 | train loss: 0.0300 | test accuracy: 0.97\n",
      "Epoch:  5 | train loss: 0.0101 | test accuracy: 0.97\n",
      "Epoch:  5 | train loss: 0.0180 | test accuracy: 0.96\n",
      "Epoch:  5 | train loss: 0.0444 | test accuracy: 0.97\n",
      "Epoch:  5 | train loss: 0.0239 | test accuracy: 0.97\n",
      "Epoch:  5 | train loss: 0.0293 | test accuracy: 0.97\n",
      "Epoch:  5 | train loss: 0.0783 | test accuracy: 0.97\n",
      "Epoch:  5 | train loss: 0.2001 | test accuracy: 0.97\n",
      "Epoch:  5 | train loss: 0.0424 | test accuracy: 0.97\n",
      "Epoch:  5 | train loss: 0.0494 | test accuracy: 0.97\n",
      "Epoch:  5 | train loss: 0.0538 | test accuracy: 0.97\n",
      "Epoch:  5 | train loss: 0.0653 | test accuracy: 0.97\n",
      "Epoch:  5 | train loss: 0.0278 | test accuracy: 0.97\n",
      "Epoch:  5 | train loss: 0.1445 | test accuracy: 0.97\n",
      "Epoch:  5 | train loss: 0.0639 | test accuracy: 0.97\n",
      "Epoch:  5 | train loss: 0.1006 | test accuracy: 0.97\n",
      "Epoch:  5 | train loss: 0.0129 | test accuracy: 0.97\n",
      "Epoch:  5 | train loss: 0.0313 | test accuracy: 0.97\n",
      "Epoch:  5 | train loss: 0.0957 | test accuracy: 0.97\n",
      "Epoch:  6 | train loss: 0.1066 | test accuracy: 0.97\n",
      "Epoch:  6 | train loss: 0.0208 | test accuracy: 0.97\n",
      "Epoch:  6 | train loss: 0.0830 | test accuracy: 0.96\n",
      "Epoch:  6 | train loss: 0.0814 | test accuracy: 0.97\n",
      "Epoch:  6 | train loss: 0.0552 | test accuracy: 0.97\n",
      "Epoch:  6 | train loss: 0.0103 | test accuracy: 0.97\n",
      "Epoch:  6 | train loss: 0.0277 | test accuracy: 0.98\n",
      "Epoch:  6 | train loss: 0.1674 | test accuracy: 0.97\n",
      "Epoch:  6 | train loss: 0.0135 | test accuracy: 0.97\n",
      "Epoch:  6 | train loss: 0.0205 | test accuracy: 0.97\n",
      "Epoch:  6 | train loss: 0.0648 | test accuracy: 0.97\n",
      "Epoch:  6 | train loss: 0.0649 | test accuracy: 0.97\n",
      "Epoch:  6 | train loss: 0.1333 | test accuracy: 0.97\n",
      "Epoch:  6 | train loss: 0.1910 | test accuracy: 0.97\n",
      "Epoch:  6 | train loss: 0.0367 | test accuracy: 0.97\n",
      "Epoch:  6 | train loss: 0.0244 | test accuracy: 0.97\n",
      "Epoch:  6 | train loss: 0.1219 | test accuracy: 0.97\n",
      "Epoch:  6 | train loss: 0.0514 | test accuracy: 0.97\n",
      "Epoch:  6 | train loss: 0.0172 | test accuracy: 0.97\n",
      "Epoch:  7 | train loss: 0.0207 | test accuracy: 0.97\n",
      "Epoch:  7 | train loss: 0.0134 | test accuracy: 0.97\n",
      "Epoch:  7 | train loss: 0.0552 | test accuracy: 0.97\n",
      "Epoch:  7 | train loss: 0.0203 | test accuracy: 0.97\n",
      "Epoch:  7 | train loss: 0.0473 | test accuracy: 0.98\n",
      "Epoch:  7 | train loss: 0.0995 | test accuracy: 0.98\n",
      "Epoch:  7 | train loss: 0.0274 | test accuracy: 0.97\n",
      "Epoch:  7 | train loss: 0.0096 | test accuracy: 0.97\n",
      "Epoch:  7 | train loss: 0.0579 | test accuracy: 0.97\n",
      "Epoch:  7 | train loss: 0.0086 | test accuracy: 0.97\n",
      "Epoch:  7 | train loss: 0.0070 | test accuracy: 0.97\n",
      "Epoch:  7 | train loss: 0.0126 | test accuracy: 0.97\n",
      "Epoch:  7 | train loss: 0.0162 | test accuracy: 0.97\n",
      "Epoch:  7 | train loss: 0.0076 | test accuracy: 0.97\n",
      "Epoch:  7 | train loss: 0.0254 | test accuracy: 0.97\n",
      "Epoch:  7 | train loss: 0.0513 | test accuracy: 0.97\n",
      "Epoch:  7 | train loss: 0.1796 | test accuracy: 0.98\n",
      "Epoch:  7 | train loss: 0.1609 | test accuracy: 0.97\n",
      "Epoch:  7 | train loss: 0.0722 | test accuracy: 0.97\n",
      "Epoch:  8 | train loss: 0.1428 | test accuracy: 0.97\n",
      "Epoch:  8 | train loss: 0.0031 | test accuracy: 0.97\n",
      "Epoch:  8 | train loss: 0.0168 | test accuracy: 0.97\n"
     ]
    },
    {
     "name": "stdout",
     "output_type": "stream",
     "text": [
      "Epoch:  8 | train loss: 0.0060 | test accuracy: 0.97\n",
      "Epoch:  8 | train loss: 0.0214 | test accuracy: 0.97\n",
      "Epoch:  8 | train loss: 0.0257 | test accuracy: 0.97\n",
      "Epoch:  8 | train loss: 0.0221 | test accuracy: 0.97\n",
      "Epoch:  8 | train loss: 0.0355 | test accuracy: 0.96\n",
      "Epoch:  8 | train loss: 0.0154 | test accuracy: 0.97\n",
      "Epoch:  8 | train loss: 0.0331 | test accuracy: 0.98\n",
      "Epoch:  8 | train loss: 0.0456 | test accuracy: 0.97\n",
      "Epoch:  8 | train loss: 0.0264 | test accuracy: 0.98\n",
      "Epoch:  8 | train loss: 0.0679 | test accuracy: 0.97\n",
      "Epoch:  8 | train loss: 0.0769 | test accuracy: 0.97\n",
      "Epoch:  8 | train loss: 0.2701 | test accuracy: 0.97\n",
      "Epoch:  8 | train loss: 0.0100 | test accuracy: 0.97\n",
      "Epoch:  8 | train loss: 0.0133 | test accuracy: 0.98\n",
      "Epoch:  8 | train loss: 0.0555 | test accuracy: 0.97\n",
      "Epoch:  8 | train loss: 0.1168 | test accuracy: 0.97\n",
      "Epoch:  9 | train loss: 0.1501 | test accuracy: 0.97\n",
      "Epoch:  9 | train loss: 0.0482 | test accuracy: 0.97\n",
      "Epoch:  9 | train loss: 0.0200 | test accuracy: 0.97\n",
      "Epoch:  9 | train loss: 0.0983 | test accuracy: 0.97\n",
      "Epoch:  9 | train loss: 0.0518 | test accuracy: 0.97\n",
      "Epoch:  9 | train loss: 0.0067 | test accuracy: 0.97\n",
      "Epoch:  9 | train loss: 0.1353 | test accuracy: 0.98\n",
      "Epoch:  9 | train loss: 0.1025 | test accuracy: 0.97\n",
      "Epoch:  9 | train loss: 0.0150 | test accuracy: 0.98\n",
      "Epoch:  9 | train loss: 0.0303 | test accuracy: 0.97\n",
      "Epoch:  9 | train loss: 0.0041 | test accuracy: 0.98\n",
      "Epoch:  9 | train loss: 0.0069 | test accuracy: 0.98\n",
      "Epoch:  9 | train loss: 0.0687 | test accuracy: 0.97\n",
      "Epoch:  9 | train loss: 0.0064 | test accuracy: 0.98\n",
      "Epoch:  9 | train loss: 0.1103 | test accuracy: 0.97\n",
      "Epoch:  9 | train loss: 0.0084 | test accuracy: 0.97\n",
      "Epoch:  9 | train loss: 0.0161 | test accuracy: 0.98\n",
      "Epoch:  9 | train loss: 0.0048 | test accuracy: 0.98\n",
      "Epoch:  9 | train loss: 0.0539 | test accuracy: 0.98\n"
     ]
    }
   ],
   "source": [
    "# training and testing\n",
    "for epoch in range(n_epochs):\n",
    "    for step, (b_x, b_y) in enumerate(train_loader):        # gives batch data\n",
    "        b_x = b_x.view(-1, 28, 28)              # reshape x to (batch, time_step, input_size)\n",
    "\n",
    "        output = rnn(b_x)                               # rnn output\n",
    "        loss = loss_func(output, b_y)                   # cross entropy loss\n",
    "        optimizer.zero_grad()                           # clear gradients for this training step\n",
    "        loss.backward()                                 # backpropagation, compute gradients\n",
    "        optimizer.step()                                # apply gradients\n",
    "\n",
    "        if step % 50 == 0:\n",
    "            test_output = rnn(test_x)                   # (samples, time_step, input_size)\n",
    "            pred_y = torch.max(test_output, 1)[1].data.numpy()\n",
    "            accuracy = float((pred_y == test_y).astype(int).sum()) / float(test_y.size)\n",
    "            print('Epoch: ', epoch, '| train loss: %.4f' % loss.data.numpy(), '| test accuracy: %.2f' % accuracy)"
   ]
  },
  {
   "cell_type": "code",
   "execution_count": 13,
   "metadata": {},
   "outputs": [
    {
     "name": "stdout",
     "output_type": "stream",
     "text": [
      "[7 2 1 0 4 1 4 9 5 9] Prediction\n",
      "[7 2 1 0 4 1 4 9 5 9] Truth\n"
     ]
    }
   ],
   "source": [
    "# print 10 predictions from test data\n",
    "test_output = rnn(test_x[:10].view(-1, 28, 28))\n",
    "pred_y = torch.max(test_output, 1)[1].data.numpy()\n",
    "print(pred_y, 'Prediction')\n",
    "print(test_y[:10], 'Truth')"
   ]
  },
  {
   "cell_type": "code",
   "execution_count": null,
   "metadata": {},
   "outputs": [],
   "source": []
  }
 ],
 "metadata": {
  "kernelspec": {
   "display_name": "PyCharm (iapr-2020)",
   "language": "python",
   "name": "pycharm-7051ba19"
  },
  "language_info": {
   "codemirror_mode": {
    "name": "ipython",
    "version": 3
   },
   "file_extension": ".py",
   "mimetype": "text/x-python",
   "name": "python",
   "nbconvert_exporter": "python",
   "pygments_lexer": "ipython3",
   "version": "3.6.10"
  }
 },
 "nbformat": 4,
 "nbformat_minor": 4
}
