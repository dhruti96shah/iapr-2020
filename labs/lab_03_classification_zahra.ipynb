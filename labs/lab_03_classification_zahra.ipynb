{
 "cells": [
  {
   "cell_type": "markdown",
   "metadata": {},
   "source": [
    "# [IAPR 2020:][iapr2020] Lab 3 ‒  Classification\n",
    "\n",
    "**Author:** first_name_1 last_name_1, first_name_2 last_name_2, first_name_3 last_name_3  \n",
    "**Due date:** 08.05.2020\n",
    "\n",
    "[iapr2018]: https://github.com/LTS5/iapr-2018"
   ]
  },
  {
   "cell_type": "markdown",
   "metadata": {},
   "source": [
    "## Extract relevant data\n",
    "We first need to extract the `lab-03-data.tar.gz` archive.\n",
    "To this end, we use the [tarfile] module from the Python standard library.\n",
    "\n",
    "[tarfile]: https://docs.python.org/3.6/library/tarfile.html"
   ]
  },
  {
   "cell_type": "code",
   "execution_count": 1,
   "metadata": {},
   "outputs": [],
   "source": [
    "import tarfile\n",
    "import os\n",
    "\n",
    "data_base_path = os.path.join(os.pardir, 'data')\n",
    "data_folder = 'lab-03-data'\n",
    "tar_path = os.path.join(data_base_path, data_folder + '.tar.gz')\n",
    "with tarfile.open(tar_path, mode='r:gz') as tar:\n",
    "    tar.extractall(path=data_base_path)"
   ]
  },
  {
   "cell_type": "markdown",
   "metadata": {},
   "source": [
    "## Part 1\n",
    "In this part, we will study classification based on the data available in the Matlab file `classification.mat` that you will under `lab-03-data/part1`.\n",
    "There are 3 data sets in this file, each one being a training set for a given class.\n",
    "They are contained in variables `a`, `b` and `c`.\n",
    "\n",
    "**Note**: we can load Matlab files using the [scipy.io] module.\n",
    "\n",
    "[scipy.io]: https://docs.scipy.org/doc/scipy/reference/io.html"
   ]
  },
  {
   "cell_type": "code",
   "execution_count": 2,
   "metadata": {},
   "outputs": [
    {
     "name": "stdout",
     "output_type": "stream",
     "text": [
      "(200, 2) (200, 2) (200, 2)\n"
     ]
    }
   ],
   "source": [
    "import scipy.io\n",
    "\n",
    "data_part1_path = os.path.join(data_base_path, data_folder, 'part1', 'classification.mat')\n",
    "matfile = scipy.io.loadmat(data_part1_path)\n",
    "a = matfile['a']\n",
    "b = matfile['b']\n",
    "c = matfile['c']\n",
    "\n",
    "print(a.shape, b.shape, c.shape)"
   ]
  },
  {
   "cell_type": "markdown",
   "metadata": {},
   "source": [
    "### 1.1 Bayes method\n",
    "Using the Bayes method, give the analytical expression of the separation curves between those three classes.\n",
    "Do reasonable hypotheses about the distributions of those classes and estimate the corresponding parameters based on the given training sets.\n",
    "Draw those curves on a plot, together with the training data.\n",
    "For simplicity reasons, round the estimated parameters to the closest integer value.\n",
    "\n",
    "*Add your implementation and discussion*"
   ]
  },
  {
   "cell_type": "markdown",
   "metadata": {},
   "source": [
    "Let's first visualize the data:\n"
   ]
  },
  {
   "cell_type": "code",
   "execution_count": 19,
   "metadata": {},
   "outputs": [
    {
     "data": {
      "image/png": "[encoded data removed]",
      "text/plain": [
       "<Figure size 432x288 with 1 Axes>"
      ]
     },
     "metadata": {
      "needs_background": "light"
     },
     "output_type": "display_data"
    }
   ],
   "source": [
    "import matplotlib.pyplot as plt\n",
    "import numpy as np\n",
    "\n",
    "# Plot the data \n",
    "plt.scatter(a[:,0],a[:,1],label='a',c='orange')\n",
    "plt.scatter(b[:,0],b[:,1],label='b',c='green')\n",
    "plt.scatter(c[:,0],c[:,1],label='c',c='purple')\n",
    "\n",
    "plt.title('Data of Part 1')\n",
    "plt.axis()\n",
    "plt.legend(loc=4)\n",
    "plt.show()\n"
   ]
  },
  {
   "cell_type": "markdown",
   "metadata": {},
   "source": [
    "#### 1.1.1 Preliminary Points"
   ]
  },
  {
   "cell_type": "markdown",
   "metadata": {},
   "source": [
    "In Bayesian classification, if, for example, we have two classes, we compare the maximum a posteriori probabilities, thus we have<br />\n",
    "$P(w_1|x)>P(w_2|x)$ or $P(w_1|x)<P(w_2|x)$. <br />\n",
    "Equaivalently, we can have <br />\n",
    "$P(x|w_1)P(w_1)>P(x|w_2)P(w_2)$ or $P(x|w_1)P(w_1)<P(x|w_2)P(w_2)$\n",
    "\n",
    "Since, accroding to Baye rule, we have <br />\n",
    "$P(w_i|x) = \\frac{P(x|w_i)P(w_i)}{P(x)}$ <br />\n",
    "\n",
    "The above result can be generalized to $n$ classes. <br />\n",
    "The decision surface between classes $i$ and $j$ has the equation: <br />\n",
    "$P(w_i|x) - P(w_j|x) = 0$\n",
    "\n",
    "We can also write it as <br />\n",
    "$g_i(x) = f(P(w_i|x))$ <br />\n",
    "\n",
    "where $f(.)$ is a monotonally increasing function, called __discriminant function__. <br />\n",
    "\n",
    "Decision will thus be taken to assign the feature vector to class $w_i$ if $g_i(x) > g_j(x)$ for all $i \\neq j$ <br />\n",
    "Now, The decision surface is given by <br />\n",
    "$g_{ij}(x) = g_i(x) - g_j(x) = 0$\n",
    "\n",
    "According to __Normal law__, the pdfs follow a Gaussian law. Thus, for every class $w_i$, we have  <br />\n",
    "$$\n",
    "\\begin{aligned}\n",
    "g_i(x) & = \\text{ln}(P(x|w_i)P(w_i)) = \\text{ln}P(x|w_i) +\\text{ln}P(w_i) \\\\\n",
    " & = -\\frac{1}{2}x^T\\Sigma_i^{-1}x + \\frac{1}{2}x^T\\Sigma_i^{-1}\\mu_i + -\\frac{1}{2}\\mu_i^T\\Sigma_i^{-1}\\mu_i + \\frac{1}{2}\\mu_i^T\\Sigma_i^{-1}x  + \\text{ln}P(w_i) + c_i\n",
    "\\end{aligned}\n",
    "$$ <br />\n",
    "\n",
    "where $\\mu_i$ the mean of class $w_i$ and $\\Sigma_i$ is the covariance matrix of size $l \\times l$, defined by <br />\n",
    "\n",
    "$\\Sigma_i = \\mathbb{E}[(x - \\mu_i)(x - \\mu_i)^T]$\n",
    "\n",
    "Based on values for $\\Sigma_i$, there will be 3 different scenarios for the discriminat functions and the decision curves: <br />\n",
    "1. $\\Sigma_i$ is identical for all classes: $\\Sigma_i = \\Sigma$: The discriminant functions are linear and the decision curves (surfaces) are hyperplanes since we have \n",
    "    * $g_i(x) = (\\Sigma^{-1}\\mu_i)^Tx + \\text{ln}P(w_i) - \\frac{1}{2}\\mu_i^T\\Sigma_i^{-1}\\mu_i$\n",
    "\n",
    "2. $\\Sigma$ is diagonal with equal values on the diagonal. i.e., $\\Sigma =\\sigma2I$: \n",
    "    * The discriminant functions becomes: <br />\n",
    "    $g_i(x) = \\frac{1}{\\sigma^2}\\mu_i^Tx + \\text{ln}P(w_i) - \\frac{1}{2}\\mu_i^T\\Sigma_i^{-1}\\mu_i$\n",
    "    * The decision hyperplanes are:<br />\n",
    "    $g_{ij} = (\\mu_i - \\mu_j)^T(x - [\\frac{1}{2}(\\mu_i + \\mu_j) - \\sigma^2\\text{ln}(\\frac{P(w_i)}{P(w_j)})\\frac{\\mu_i - \\mu_j}{||\\mu_i - \\mu_j ||^2}] ) = 0$\n",
    "3. If $\\Sigma$ is different from $\\sigma2I$ \n",
    "    * The decision hyperplanes are:<br />\n",
    "    $g_{ij} = (\\Sigma^{-1}(\\mu_i - \\mu_j))^T(x - [\\frac{1}{2}(\\mu_i + \\mu_j) - \\text{ln}(\\frac{P(w_i)}{P(w_j)})\\frac{\\mu_i - \\mu_j}{||\\mu_i - \\mu_j ||_{\\Sigma^{-1}}^2}] ) = 0 $ <br />\n",
    "    \n"
   ]
  },
  {
   "cell_type": "markdown",
   "metadata": {},
   "source": [
    "#### 1.1.2 Distribution Hypotheses\n",
    "The dataset can be modeled by Gaussian probability distribution. The prior probabilities for the three classes are equal since there are equal number data points in each of the three classes, i.e., <br />\n",
    "$P(w_1) = P(w_2) = P(w_3) = \\frac{1}{3}$\n",
    "\n",
    "Now, to see which of the three above scenarios apply to the discriminat functions and the decision curves of classes in our data, we compute the mean and covariance matrices of each of the three classes:\n"
   ]
  },
  {
   "cell_type": "code",
   "execution_count": 4,
   "metadata": {},
   "outputs": [],
   "source": [
    "# Calculate the mean and covaiance of each class \n",
    "mu_a = a.mean(axis=0)\n",
    "mu_b = b.mean(axis=0)\n",
    "mu_c = c.mean(axis=0)\n",
    "\n",
    "sigma_a = np.cov(np.transpose(a))\n",
    "sigma_b = np.cov(np.transpose(b))\n",
    "sigma_c = np.cov(np.transpose(c))\n"
   ]
  },
  {
   "cell_type": "code",
   "execution_count": 5,
   "metadata": {},
   "outputs": [
    {
     "name": "stdout",
     "output_type": "stream",
     "text": [
      "Mean of class a:\n",
      "[-0.  0.]\n",
      "Covariance matrix of class a:\n",
      "[[10.  0.]\n",
      " [ 0.  1.]]\n"
     ]
    }
   ],
   "source": [
    "# Prin the mean and covariance matrix for class a (rounded to the nearest integer)\n",
    "print('Mean of class a:')\n",
    "print(mu_a.round())\n",
    "print('Covariance matrix of class a:')\n",
    "print(sigma_a.round())"
   ]
  },
  {
   "cell_type": "code",
   "execution_count": 6,
   "metadata": {},
   "outputs": [
    {
     "name": "stdout",
     "output_type": "stream",
     "text": [
      "Mean of class b:\n",
      "[3. 3.]\n",
      "Covariance matrix of class b:\n",
      "[[10.  0.]\n",
      " [ 0.  1.]]\n"
     ]
    }
   ],
   "source": [
    "# Prin the mean and covariance matrix for class b (rounded to the nearest integer)\n",
    "print('Mean of class b:')\n",
    "print(mu_b.round())\n",
    "print('Covariance matrix of class b:')\n",
    "print(sigma_b.round())"
   ]
  },
  {
   "cell_type": "code",
   "execution_count": 7,
   "metadata": {},
   "outputs": [
    {
     "name": "stdout",
     "output_type": "stream",
     "text": [
      "Mean of class c:\n",
      "[-10.   0.]\n",
      "Covariance matrix of class c:\n",
      "[[1. 0.]\n",
      " [0. 5.]]\n"
     ]
    }
   ],
   "source": [
    "# Prin the mean and covariance matrix for class c (rounded to the nearest integer)\n",
    "print('Mean of class c:')\n",
    "print(mu_c.round())\n",
    "print('Covariance matrix of class c:')\n",
    "print(sigma_c.round())"
   ]
  },
  {
   "cell_type": "markdown",
   "metadata": {},
   "source": [
    "#### 1.1.3 Discriminant Functions and Decision Curves \n",
    "We see that the (estimated) covariance matrix $\\Sigma$ of classes $a$ and $b$ are similar. Hence, the quadratic terms will disappear in the equation of the decision curves, as well as the constant $c_i$. However, the convariance matrix of class $c$ is different from both classes $a$ and $b$. Therefore, the decision curves between the classes can be calculated as follows \n",
    "1. Decision curve between $a$ and $b$: $\\frac{(x - \\mu_{a1})^2}{(\\sigma_{a1}^2)}  + \\frac{(y - \\mu_{a2})^2}{(\\sigma_{a2}^2)} =  \\frac{(x - \\mu_{b1})^2}{(\\sigma_{b1}^2)}  + \\frac{(y - \\mu_{b2})^2}{(\\sigma_{b2}^2)}  $\n",
    "\n",
    "2. Decision curve between $a$ and $c$: $-\\frac{1}{2}[\\frac{(x - \\mu_{a1})^2}{(\\sigma_{a1}^2)}  + \\frac{(y - \\mu_{a2})^2}{(\\sigma_{a2}^2)}] + \\text{ln}\\frac{1}{\\sqrt{\\sigma_{a1}^2 + \\sigma_{a2}^2}} = -\\frac{1}{2}[\\frac{(x - \\mu_{c1})^2}{(\\sigma_{c1}^2)}  + \\frac{(y - \\mu_{c2})^2}{(\\sigma_{c2}^2)}] + \\text{ln}(\\frac{1}{\\sqrt{\\sigma_{c1}^2 + \\sigma_{c2}^2}})$\n",
    "\n",
    "3. Decision curve between $b$ and $c$: $-\\frac{1}{2}[\\frac{(x - \\mu_{b1})^2}{(\\sigma_{b1}^2)}  + \\frac{(y - \\mu_{b2})^2}{(\\sigma_{b2}^2)}] + \\text{ln}\\frac{1}{\\sqrt{\\sigma_{b1}^2 + \\sigma_{b2}^2}} = -\\frac{1}{2}[\\frac{(x - \\mu_{c1})^2}{(\\sigma_{c1}^2)}  + \\frac{(y - \\mu_{c2})^2}{(\\sigma_{c2}^2)}] + \\text{ln}(\\frac{1}{\\sqrt{\\sigma_{c1}^2 + \\sigma_{c2}^2}})$"
   ]
  },
  {
   "cell_type": "code",
   "execution_count": 8,
   "metadata": {},
   "outputs": [],
   "source": [
    "# Calculate mean and covariance matix\n",
    "def get_mean_cov(data):\n",
    "    mean = data.mean(axis=0)\n",
    "    sigma=(np.dot((data- mean).T, data - mean)/len(data))\n",
    "    # get and estimate by rounding to nearest integer\n",
    "    return mean.round(),sigma.round()"
   ]
  },
  {
   "cell_type": "code",
   "execution_count": 9,
   "metadata": {},
   "outputs": [],
   "source": [
    "# Calculate the coefficients of decision curve\n",
    "def get_decision_curve_coeffs(d1,d2):\n",
    "    mu_1,sigma_1=get_mean_cov(d1)\n",
    "    mu_2,sigma_2=get_mean_cov(d2)\n",
    "    mu_11,mu_12=mu_1[0],mu_1[1]\n",
    "    mu_21,mu_22=mu_2[0],mu_2[1]\n",
    "    \n",
    "    sigma_11,sigma_12=sigma_1[0][0],sigma_1[1][1]\n",
    "    sigma_21,sigma_22=sigma_2[0][0],sigma_2[1][1]\n",
    "    \n",
    "    coef_x_2=(sigma_21-sigma_11)*sigma_12*sigma_22\n",
    "    coef_x_1=(-2*mu_11*sigma_21+2*mu_21*sigma_11)*sigma_12*sigma_22\n",
    "    coef_y_2=(sigma_22-sigma_12)*sigma_11*sigma_21\n",
    "    coef_y_1=(-2*mu_12*sigma_22+2*mu_22*sigma_12)*sigma_11*sigma_21\n",
    "    coef_constant_1=mu_11*mu_11*sigma_12*sigma_21*sigma_22+mu_12*mu_12*sigma_11*sigma_21*sigma_22\n",
    "    coef_constant_2=-mu_21*mu_21*sigma_11*sigma_12*sigma_22-mu_22*mu_22*sigma_11*sigma_12*sigma_21\n",
    "    coef_constant=coef_constant_1+coef_constant_2\n",
    "    \n",
    "    temp = np.array([coef_x_2,coef_x_1,coef_y_2,coef_y_1,coef_constant])\n",
    "    temp = temp[np.flatnonzero(temp)]\n",
    "    temp_min =min(abs(temp))\n",
    "   \n",
    "    return int(round(coef_x_2)),int(round(coef_x_1)),int(coef_y_2.round()),int(coef_y_1.round()),int(coef_constant.round())\n"
   ]
  },
  {
   "cell_type": "code",
   "execution_count": 10,
   "metadata": {},
   "outputs": [
    {
     "data": {
      "text/plain": [
       "(0, 60, 0, 600, -990)"
      ]
     },
     "execution_count": 10,
     "metadata": {},
     "output_type": "execute_result"
    }
   ],
   "source": [
    "get_decision_curve_coeffs(a,b)"
   ]
  },
  {
   "cell_type": "markdown",
   "metadata": {},
   "source": [
    "Hence, the decision curve between classes $a$ and $b$ is <br />\n",
    "$60x - 600y - 990 = 0$"
   ]
  },
  {
   "cell_type": "code",
   "execution_count": 11,
   "metadata": {},
   "outputs": [
    {
     "data": {
      "text/plain": [
       "(-45, -1000, 40, 0, -5000)"
      ]
     },
     "execution_count": 11,
     "metadata": {},
     "output_type": "execute_result"
    }
   ],
   "source": [
    "get_decision_curve_coeffs(a,c)"
   ]
  },
  {
   "cell_type": "markdown",
   "metadata": {},
   "source": [
    "Hence, the decision curve between classes $a$ and $c$ is <br />\n",
    "$-45x^2 - 1000x + 40y^2 - 5000  = 0$"
   ]
  },
  {
   "cell_type": "code",
   "execution_count": 12,
   "metadata": {},
   "outputs": [
    {
     "data": {
      "text/plain": [
       "(-45, -1030, 40, -300, -4505)"
      ]
     },
     "execution_count": 12,
     "metadata": {},
     "output_type": "execute_result"
    }
   ],
   "source": [
    "get_decision_curve_coeffs(b,c)"
   ]
  },
  {
   "cell_type": "markdown",
   "metadata": {},
   "source": [
    "Hence, the decision curve between classes $b$ and $c$ is <br />\n",
    "$-45x^2 - 1030x + 40y^2 - 300y - 4505  = 0$"
   ]
  },
  {
   "cell_type": "code",
   "execution_count": 13,
   "metadata": {},
   "outputs": [
    {
     "name": "stderr",
     "output_type": "stream",
     "text": [
      "/opt/anaconda3/lib/python3.7/site-packages/ipykernel_launcher.py:23: UserWarning: The following kwargs were not used by contour: 'label'\n",
      "/opt/anaconda3/lib/python3.7/site-packages/ipykernel_launcher.py:24: UserWarning: The following kwargs were not used by contour: 'label'\n",
      "/opt/anaconda3/lib/python3.7/site-packages/ipykernel_launcher.py:25: UserWarning: The following kwargs were not used by contour: 'label'\n"
     ]
    },
    {
     "data": {
      "image/png": "[encoded data removed]",
      "text/plain": [
       "<Figure size 576x576 with 1 Axes>"
      ]
     },
     "metadata": {
      "needs_background": "light"
     },
     "output_type": "display_data"
    }
   ],
   "source": [
    "# Plot the decision curves\n",
    "x1_range = np.arange(-7, 15, 0.1)\n",
    "y1_range = np.arange(-6, 6, 0.1)\n",
    "x1_range, y1_range = np.meshgrid(x1_range, y1_range)\n",
    "curve_ab = 60*x1_range+600*y1_range-990\n",
    "\n",
    "x2_range = np.arange(-10, 15, 0.1)\n",
    "y2_range = np.arange(-6, 2.5, 0.1)\n",
    "x2_range, y2_range = np.meshgrid(x2_range, y2_range)\n",
    "curve_ac = -45*x2_range*x2_range-1000*x2_range+40*y2_range*y2_range-5000\n",
    "\n",
    "x3_range = np.arange(-10, 15, 0.1)\n",
    "y3_range = np.arange(2.3, 6, 0.1)\n",
    "x3_range, y3_range = np.meshgrid(x3_range, y3_range)\n",
    "curve_bc = -45*x3_range*x3_range-1030*x3_range+40*y3_range*y3_range-300*y3_range-4505\n",
    "\n",
    "fig = plt.figure(figsize = (8, 8))\n",
    "ax = fig.add_subplot(111)\n",
    "\n",
    "ax.scatter(a[:, 0], a[:, 1],  label = 'a',c='orange')\n",
    "ax.scatter(b[:, 0], b[:, 1],  label = 'b',c='green')\n",
    "ax.scatter(c[:, 0], c[:, 1],  label = 'c',c='purple')\n",
    "ax.contour(x1_range, y1_range, curve_ab, 0,linestyles='dotted',label='curve_ab')\n",
    "ax.contour(x2_range, y2_range, curve_ac, 0,linestyles='dotted',label='curve_ac')\n",
    "ax.contour(x3_range, y3_range, curve_bc, 0,linestyles='dotted',label='curve_bc')\n",
    "plt.title(\"Decision curves for the three classes of data\")\n",
    "ax.legend(loc=4)\n",
    "plt.show()\n"
   ]
  },
  {
   "cell_type": "markdown",
   "metadata": {},
   "source": [
    "#### 1.1.4 Bayes Method Performance"
   ]
  },
  {
   "cell_type": "markdown",
   "metadata": {},
   "source": [
    "According to the above plot, the decision curves are calcualted correctly as our Bayes classifier is capable of classifying the data into three classes $a$, $b$, and $c$. Now, to analzye the performance of our classifier, we compute its accuracy in calcualting the labels by calculating the percentage of datapoints that are incorrectly classified: "
   ]
  },
  {
   "cell_type": "code",
   "execution_count": 14,
   "metadata": {},
   "outputs": [],
   "source": [
    "# calculate the accuracy of Bayes model\n",
    "def compute_bayes_accuracy(data,label,class_):\n",
    "    correct=0\n",
    "    correct_list=[]\n",
    "    err = []\n",
    "    for d in data:\n",
    "        x=d[0]\n",
    "        y=d[1]\n",
    "        if class_=='ab':\n",
    "            pred=int((60*x + 600*y - 990)>0)\n",
    "        \n",
    "        if class_=='ac':\n",
    "            pred=int((-45*x**2 - 1000*x + 40*y**2 - 5000)>0)\n",
    "        \n",
    "        if class_=='bc':\n",
    "            pred=int((-45*x**2 - 1030*x + 40*y**2 - 300*y - 4505)>0)\n",
    "        \n",
    "        if pred==label:\n",
    "            correct += 1\n",
    "            correct_list.append(d)\n",
    "        else:\n",
    "            err.append(d)\n",
    "    accuracy = correct/len(data)\n",
    "    return accuracy,np.array(correct_list),np.array(err)"
   ]
  },
  {
   "cell_type": "code",
   "execution_count": 15,
   "metadata": {},
   "outputs": [
    {
     "name": "stdout",
     "output_type": "stream",
     "text": [
      "Accuracy of Bayes Method for class a is 0.9724999999999999\n",
      "Accuracy of Bayes Method for class b is 0.975\n",
      "Accuracy of Bayes Method for class c is 1.0\n"
     ]
    }
   ],
   "source": [
    "a1_bayes_acc,a1_correct_bayes,a1_err_bayes=compute_bayes_accuracy(a,0,\"ab\")\n",
    "b1_bayes_acc,b1_correct_bayes,b1_err_bayes=compute_bayes_accuracy(b,1,\"ab\")\n",
    "\n",
    "a2_bayes_acc,a2_correct_bayes,a2_err_bayes=compute_bayes_accuracy(a,0,\"ac\")\n",
    "c1_bayes_acc,c1_correct_bayes,c1_err_bayes=compute_bayes_accuracy(c,1,\"ac\")\n",
    "\n",
    "b2_bayes_acc,b2_correct_bayes,b2_err_bayes=compute_bayes_accuracy(b,0,\"ac\")\n",
    "c2_bayes_acc,c2_correct_bayes,c2_err_bayes=compute_bayes_accuracy(c,1,\"ac\")\n",
    "\n",
    "print('Accuracy of Bayes Method for class a is '+str((a1_bayes_acc + a2_bayes_acc)/2))\n",
    "print('Accuracy of Bayes Method for class b is '+str((b1_bayes_acc + b2_bayes_acc)/2))\n",
    "print('Accuracy of Bayes Method for class c is '+str((c1_bayes_acc + c2_bayes_acc)/2))\n"
   ]
  },
  {
   "cell_type": "markdown",
   "metadata": {},
   "source": [
    "We also plot the data:"
   ]
  },
  {
   "cell_type": "code",
   "execution_count": 16,
   "metadata": {},
   "outputs": [
    {
     "data": {
      "image/png": "[encoded data removed]",
      "text/plain": [
       "<Figure size 576x576 with 1 Axes>"
      ]
     },
     "metadata": {
      "needs_background": "light"
     },
     "output_type": "display_data"
    }
   ],
   "source": [
    "fig = plt.figure(figsize = (8, 8))\n",
    "ax = fig.add_subplot(111)\n",
    "ax.scatter(a1_correct_bayes[:, 0], a1_correct_bayes[:, 1],label ='a',c='orange' )\n",
    "ax.scatter(a2_correct_bayes[:, 0], a2_correct_bayes[:, 1],c='orange')\n",
    "\n",
    "ax.scatter(b1_correct_bayes[:, 0], b1_correct_bayes[:, 1],label ='b',c='green' )\n",
    "ax.scatter(b2_correct_bayes[:, 0], b2_correct_bayes[:, 1],c='green')\n",
    "\n",
    "ax.scatter(c1_correct_bayes[:, 0], c1_correct_bayes[:, 1],label ='c',c='purple' )\n",
    "ax.scatter(c2_correct_bayes[:, 0], c2_correct_bayes[:, 1],c='purple')\n",
    "\n",
    "ax.scatter(a1_err_bayes[:, 0], a1_err_bayes[:, 1], label ='Incorrectly classified',c='red' )\n",
    "ax.scatter(a2_err_bayes[:, 0], a2_err_bayes[:, 1],c='red')\n",
    "\n",
    "ax.scatter(b1_err_bayes[:, 0], b1_err_bayes[:, 1],c='red' )\n",
    "#ax.scatter(b2_err_bayes[:, 0], b2_err_bayes[:, 1], label ='Incorrectly classified',c='red') # this list is empty\n",
    "\n",
    "#ax.scatter(c1_err_bayes[:, 0], c1_err_bayes[:, 1], label ='Incorrectly classified',c='red') # this list is empty\n",
    "#ax.scatter(c2_err_bayes[:, 0], c2_err_bayes[:, 1], label ='Incorrectly classified',c='red') # this list is empty\n",
    "\n",
    "ax.legend()\n",
    "plt.title(\"Accuracy of Bayes Method\");\n",
    "plt.show()"
   ]
  },
  {
   "cell_type": "markdown",
   "metadata": {},
   "source": [
    "### 1.2 Mahalanobis distance\n",
    "For classes `a` and `b`, give the expression of the Mahalanobis distance used to classify a point in class `a` or `b`, and verify the obtained classification, in comparison with the \"complete\" Bayes classification, for a few points of the plane.\n",
    "\n",
    "*Add your implementation and discussion*"
   ]
  },
  {
   "cell_type": "code",
   "execution_count": null,
   "metadata": {},
   "outputs": [],
   "source": []
  },
  {
   "cell_type": "markdown",
   "metadata": {},
   "source": [
    "## Part 2\n",
    "In this part, we aim to classify digits using the complete version of MNIST digits dataset.\n",
    "The dataset consists of 60'000 training images and 10'000 test images of handwritten digits.\n",
    "Each image has size 28x28, and has assigned a label from zero to nine, denoting the digits value.\n",
    "Given this data, your task is to construct a Multilayer Perceptron (MLP) for supervised training and classification and evaluate it on the test images.\n",
    "\n",
    "Download the MNIST dataset (all 4 files) from http://yann.lecun.com/exdb/mnist/ under `lab-03-data/part2`.\n",
    "You can then use the script provided below to extract and load training and testing images in Python.\n",
    "\n",
    "To create an MLP you are free to choose any library.\n",
    "In case you don't have any preferences, we encourage you to use the [scikit-learn] package; it is a simple, efficient and free tool for data analysis and machine learning.\n",
    "In this [link][sklearn-example], you can find a basic example to see how to create and train an MLP using [scikit-learn].\n",
    "Your network should have the following properties:\n",
    "* Input `x`: 784-dimensional (i.e. 784 visible units representing the flattened 28x28 pixel images).\n",
    "* 100 hidden units `h`.\n",
    "* 10 output units `y`, i.e. the labels, with a value close to one in the i-th class representing a high probability of the input representing the digit `i`.\n",
    "\n",
    "If you need additional examples you can borrow some code from image classification tutorials.\n",
    "However, we recommend that you construct a minimal version of the network on your own to gain better insights.\n",
    "\n",
    "[scikit-learn]: http://scikit-learn.org/stable/index.html\n",
    "[sklearn-example]: http://scikit-learn.org/stable/modules/neural_networks_supervised.html"
   ]
  },
  {
   "cell_type": "markdown",
   "metadata": {},
   "source": [
    "### 2.1 Dataset loading\n",
    "Here we first declare the methods `extract_data` and `extract_labels` so that we can reuse them later in the code.\n",
    "Then we extract both the data and corresponding labels, and plot randomly some images and corresponding labels of the training set."
   ]
  },
  {
   "cell_type": "code",
   "execution_count": 17,
   "metadata": {},
   "outputs": [],
   "source": [
    "import gzip\n",
    "import numpy as np\n",
    "import matplotlib.pyplot as plt\n",
    "\n",
    "def extract_data(filename, image_shape, image_number):\n",
    "    with gzip.open(filename) as bytestream:\n",
    "        bytestream.read(16)\n",
    "        buf = bytestream.read(np.prod(image_shape) * image_number)\n",
    "        data = np.frombuffer(buf, dtype=np.uint8).astype(np.float32)\n",
    "        data = data.reshape(image_number, image_shape[0], image_shape[1])\n",
    "    return data\n",
    "\n",
    "\n",
    "def extract_labels(filename, image_number):\n",
    "    with gzip.open(filename) as bytestream:\n",
    "        bytestream.read(8)\n",
    "        buf = bytestream.read(1 * image_number)\n",
    "        labels = np.frombuffer(buf, dtype=np.uint8).astype(np.int64)\n",
    "    return labels"
   ]
  },
  {
   "cell_type": "code",
   "execution_count": 18,
   "metadata": {},
   "outputs": [
    {
     "ename": "FileNotFoundError",
     "evalue": "[Errno 2] No such file or directory: '../data/lab-03-data/part2/train-images-idx3-ubyte.gz'",
     "output_type": "error",
     "traceback": [
      "\u001b[0;31m---------------------------------------------------------------------------\u001b[0m",
      "\u001b[0;31mFileNotFoundError\u001b[0m                         Traceback (most recent call last)",
      "\u001b[0;32m<ipython-input-18-50c88f398b7a>\u001b[0m in \u001b[0;36m<module>\u001b[0;34m\u001b[0m\n\u001b[1;32m     10\u001b[0m \u001b[0mtest_labels_path\u001b[0m \u001b[0;34m=\u001b[0m \u001b[0mos\u001b[0m\u001b[0;34m.\u001b[0m\u001b[0mpath\u001b[0m\u001b[0;34m.\u001b[0m\u001b[0mjoin\u001b[0m\u001b[0;34m(\u001b[0m\u001b[0mdata_part2_folder\u001b[0m\u001b[0;34m,\u001b[0m \u001b[0;34m't10k-labels-idx1-ubyte.gz'\u001b[0m\u001b[0;34m)\u001b[0m\u001b[0;34m\u001b[0m\u001b[0;34m\u001b[0m\u001b[0m\n\u001b[1;32m     11\u001b[0m \u001b[0;34m\u001b[0m\u001b[0m\n\u001b[0;32m---> 12\u001b[0;31m \u001b[0mtrain_images\u001b[0m \u001b[0;34m=\u001b[0m \u001b[0mextract_data\u001b[0m\u001b[0;34m(\u001b[0m\u001b[0mtrain_images_path\u001b[0m\u001b[0;34m,\u001b[0m \u001b[0mimage_shape\u001b[0m\u001b[0;34m,\u001b[0m \u001b[0mtrain_set_size\u001b[0m\u001b[0;34m)\u001b[0m\u001b[0;34m\u001b[0m\u001b[0;34m\u001b[0m\u001b[0m\n\u001b[0m\u001b[1;32m     13\u001b[0m \u001b[0mtest_images\u001b[0m \u001b[0;34m=\u001b[0m \u001b[0mextract_data\u001b[0m\u001b[0;34m(\u001b[0m\u001b[0mtest_images_path\u001b[0m\u001b[0;34m,\u001b[0m \u001b[0mimage_shape\u001b[0m\u001b[0;34m,\u001b[0m \u001b[0mtest_set_size\u001b[0m\u001b[0;34m)\u001b[0m\u001b[0;34m\u001b[0m\u001b[0;34m\u001b[0m\u001b[0m\n\u001b[1;32m     14\u001b[0m \u001b[0mtrain_labels\u001b[0m \u001b[0;34m=\u001b[0m \u001b[0mextract_labels\u001b[0m\u001b[0;34m(\u001b[0m\u001b[0mtrain_labels_path\u001b[0m\u001b[0;34m,\u001b[0m \u001b[0mtrain_set_size\u001b[0m\u001b[0;34m)\u001b[0m\u001b[0;34m\u001b[0m\u001b[0;34m\u001b[0m\u001b[0m\n",
      "\u001b[0;32m<ipython-input-17-3cd64866388f>\u001b[0m in \u001b[0;36mextract_data\u001b[0;34m(filename, image_shape, image_number)\u001b[0m\n\u001b[1;32m      4\u001b[0m \u001b[0;34m\u001b[0m\u001b[0m\n\u001b[1;32m      5\u001b[0m \u001b[0;32mdef\u001b[0m \u001b[0mextract_data\u001b[0m\u001b[0;34m(\u001b[0m\u001b[0mfilename\u001b[0m\u001b[0;34m,\u001b[0m \u001b[0mimage_shape\u001b[0m\u001b[0;34m,\u001b[0m \u001b[0mimage_number\u001b[0m\u001b[0;34m)\u001b[0m\u001b[0;34m:\u001b[0m\u001b[0;34m\u001b[0m\u001b[0;34m\u001b[0m\u001b[0m\n\u001b[0;32m----> 6\u001b[0;31m     \u001b[0;32mwith\u001b[0m \u001b[0mgzip\u001b[0m\u001b[0;34m.\u001b[0m\u001b[0mopen\u001b[0m\u001b[0;34m(\u001b[0m\u001b[0mfilename\u001b[0m\u001b[0;34m)\u001b[0m \u001b[0;32mas\u001b[0m \u001b[0mbytestream\u001b[0m\u001b[0;34m:\u001b[0m\u001b[0;34m\u001b[0m\u001b[0;34m\u001b[0m\u001b[0m\n\u001b[0m\u001b[1;32m      7\u001b[0m         \u001b[0mbytestream\u001b[0m\u001b[0;34m.\u001b[0m\u001b[0mread\u001b[0m\u001b[0;34m(\u001b[0m\u001b[0;36m16\u001b[0m\u001b[0;34m)\u001b[0m\u001b[0;34m\u001b[0m\u001b[0;34m\u001b[0m\u001b[0m\n\u001b[1;32m      8\u001b[0m         \u001b[0mbuf\u001b[0m \u001b[0;34m=\u001b[0m \u001b[0mbytestream\u001b[0m\u001b[0;34m.\u001b[0m\u001b[0mread\u001b[0m\u001b[0;34m(\u001b[0m\u001b[0mnp\u001b[0m\u001b[0;34m.\u001b[0m\u001b[0mprod\u001b[0m\u001b[0;34m(\u001b[0m\u001b[0mimage_shape\u001b[0m\u001b[0;34m)\u001b[0m \u001b[0;34m*\u001b[0m \u001b[0mimage_number\u001b[0m\u001b[0;34m)\u001b[0m\u001b[0;34m\u001b[0m\u001b[0;34m\u001b[0m\u001b[0m\n",
      "\u001b[0;32m/opt/anaconda3/lib/python3.7/gzip.py\u001b[0m in \u001b[0;36mopen\u001b[0;34m(filename, mode, compresslevel, encoding, errors, newline)\u001b[0m\n\u001b[1;32m     51\u001b[0m     \u001b[0mgz_mode\u001b[0m \u001b[0;34m=\u001b[0m \u001b[0mmode\u001b[0m\u001b[0;34m.\u001b[0m\u001b[0mreplace\u001b[0m\u001b[0;34m(\u001b[0m\u001b[0;34m\"t\"\u001b[0m\u001b[0;34m,\u001b[0m \u001b[0;34m\"\"\u001b[0m\u001b[0;34m)\u001b[0m\u001b[0;34m\u001b[0m\u001b[0;34m\u001b[0m\u001b[0m\n\u001b[1;32m     52\u001b[0m     \u001b[0;32mif\u001b[0m \u001b[0misinstance\u001b[0m\u001b[0;34m(\u001b[0m\u001b[0mfilename\u001b[0m\u001b[0;34m,\u001b[0m \u001b[0;34m(\u001b[0m\u001b[0mstr\u001b[0m\u001b[0;34m,\u001b[0m \u001b[0mbytes\u001b[0m\u001b[0;34m,\u001b[0m \u001b[0mos\u001b[0m\u001b[0;34m.\u001b[0m\u001b[0mPathLike\u001b[0m\u001b[0;34m)\u001b[0m\u001b[0;34m)\u001b[0m\u001b[0;34m:\u001b[0m\u001b[0;34m\u001b[0m\u001b[0;34m\u001b[0m\u001b[0m\n\u001b[0;32m---> 53\u001b[0;31m         \u001b[0mbinary_file\u001b[0m \u001b[0;34m=\u001b[0m \u001b[0mGzipFile\u001b[0m\u001b[0;34m(\u001b[0m\u001b[0mfilename\u001b[0m\u001b[0;34m,\u001b[0m \u001b[0mgz_mode\u001b[0m\u001b[0;34m,\u001b[0m \u001b[0mcompresslevel\u001b[0m\u001b[0;34m)\u001b[0m\u001b[0;34m\u001b[0m\u001b[0;34m\u001b[0m\u001b[0m\n\u001b[0m\u001b[1;32m     54\u001b[0m     \u001b[0;32melif\u001b[0m \u001b[0mhasattr\u001b[0m\u001b[0;34m(\u001b[0m\u001b[0mfilename\u001b[0m\u001b[0;34m,\u001b[0m \u001b[0;34m\"read\"\u001b[0m\u001b[0;34m)\u001b[0m \u001b[0;32mor\u001b[0m \u001b[0mhasattr\u001b[0m\u001b[0;34m(\u001b[0m\u001b[0mfilename\u001b[0m\u001b[0;34m,\u001b[0m \u001b[0;34m\"write\"\u001b[0m\u001b[0;34m)\u001b[0m\u001b[0;34m:\u001b[0m\u001b[0;34m\u001b[0m\u001b[0;34m\u001b[0m\u001b[0m\n\u001b[1;32m     55\u001b[0m         \u001b[0mbinary_file\u001b[0m \u001b[0;34m=\u001b[0m \u001b[0mGzipFile\u001b[0m\u001b[0;34m(\u001b[0m\u001b[0;32mNone\u001b[0m\u001b[0;34m,\u001b[0m \u001b[0mgz_mode\u001b[0m\u001b[0;34m,\u001b[0m \u001b[0mcompresslevel\u001b[0m\u001b[0;34m,\u001b[0m \u001b[0mfilename\u001b[0m\u001b[0;34m)\u001b[0m\u001b[0;34m\u001b[0m\u001b[0;34m\u001b[0m\u001b[0m\n",
      "\u001b[0;32m/opt/anaconda3/lib/python3.7/gzip.py\u001b[0m in \u001b[0;36m__init__\u001b[0;34m(self, filename, mode, compresslevel, fileobj, mtime)\u001b[0m\n\u001b[1;32m    161\u001b[0m             \u001b[0mmode\u001b[0m \u001b[0;34m+=\u001b[0m \u001b[0;34m'b'\u001b[0m\u001b[0;34m\u001b[0m\u001b[0;34m\u001b[0m\u001b[0m\n\u001b[1;32m    162\u001b[0m         \u001b[0;32mif\u001b[0m \u001b[0mfileobj\u001b[0m \u001b[0;32mis\u001b[0m \u001b[0;32mNone\u001b[0m\u001b[0;34m:\u001b[0m\u001b[0;34m\u001b[0m\u001b[0;34m\u001b[0m\u001b[0m\n\u001b[0;32m--> 163\u001b[0;31m             \u001b[0mfileobj\u001b[0m \u001b[0;34m=\u001b[0m \u001b[0mself\u001b[0m\u001b[0;34m.\u001b[0m\u001b[0mmyfileobj\u001b[0m \u001b[0;34m=\u001b[0m \u001b[0mbuiltins\u001b[0m\u001b[0;34m.\u001b[0m\u001b[0mopen\u001b[0m\u001b[0;34m(\u001b[0m\u001b[0mfilename\u001b[0m\u001b[0;34m,\u001b[0m \u001b[0mmode\u001b[0m \u001b[0;32mor\u001b[0m \u001b[0;34m'rb'\u001b[0m\u001b[0;34m)\u001b[0m\u001b[0;34m\u001b[0m\u001b[0;34m\u001b[0m\u001b[0m\n\u001b[0m\u001b[1;32m    164\u001b[0m         \u001b[0;32mif\u001b[0m \u001b[0mfilename\u001b[0m \u001b[0;32mis\u001b[0m \u001b[0;32mNone\u001b[0m\u001b[0;34m:\u001b[0m\u001b[0;34m\u001b[0m\u001b[0;34m\u001b[0m\u001b[0m\n\u001b[1;32m    165\u001b[0m             \u001b[0mfilename\u001b[0m \u001b[0;34m=\u001b[0m \u001b[0mgetattr\u001b[0m\u001b[0;34m(\u001b[0m\u001b[0mfileobj\u001b[0m\u001b[0;34m,\u001b[0m \u001b[0;34m'name'\u001b[0m\u001b[0;34m,\u001b[0m \u001b[0;34m''\u001b[0m\u001b[0;34m)\u001b[0m\u001b[0;34m\u001b[0m\u001b[0;34m\u001b[0m\u001b[0m\n",
      "\u001b[0;31mFileNotFoundError\u001b[0m: [Errno 2] No such file or directory: '../data/lab-03-data/part2/train-images-idx3-ubyte.gz'"
     ]
    }
   ],
   "source": [
    "image_shape = (28, 28)\n",
    "train_set_size = 60000\n",
    "test_set_size = 10000\n",
    "\n",
    "data_part2_folder = os.path.join(data_base_path, data_folder, 'part2')\n",
    "\n",
    "train_images_path = os.path.join(data_part2_folder, 'train-images-idx3-ubyte.gz')\n",
    "train_labels_path = os.path.join(data_part2_folder, 'train-labels-idx1-ubyte.gz')\n",
    "test_images_path = os.path.join(data_part2_folder, 't10k-images-idx3-ubyte.gz')\n",
    "test_labels_path = os.path.join(data_part2_folder, 't10k-labels-idx1-ubyte.gz')\n",
    "\n",
    "train_images = extract_data(train_images_path, image_shape, train_set_size)\n",
    "test_images = extract_data(test_images_path, image_shape, test_set_size)\n",
    "train_labels = extract_labels(train_labels_path, train_set_size)\n",
    "test_labels = extract_labels(test_labels_path, test_set_size)"
   ]
  },
  {
   "cell_type": "code",
   "execution_count": null,
   "metadata": {},
   "outputs": [],
   "source": [
    "prng = np.random.RandomState(seed=123456789)  # seed to always re-draw the same distribution\n",
    "plt_ind = prng.randint(low=0, high=train_set_size, size=10)\n",
    "\n",
    "fig, axes = plt.subplots(1, 10, figsize=(12, 3))\n",
    "for ax, im, lb in zip(axes, train_images[plt_ind], train_labels[plt_ind]):\n",
    "    ax.imshow(im, cmap='gray')\n",
    "    ax.axis('off')\n",
    "    ax.set_title(lb)"
   ]
  },
  {
   "cell_type": "markdown",
   "metadata": {},
   "source": [
    "### 2.2 MLP\n",
    "*Add your implementation and discussion*"
   ]
  }
 ],
 "metadata": {
  "kernelspec": {
   "display_name": "Python 3",
   "language": "python",
   "name": "python3"
  },
  "language_info": {
   "codemirror_mode": {
    "name": "ipython",
    "version": 3
   },
   "file_extension": ".py",
   "mimetype": "text/x-python",
   "name": "python",
   "nbconvert_exporter": "python",
   "pygments_lexer": "ipython3",
   "version": "3.7.4"
  }
 },
 "nbformat": 4,
 "nbformat_minor": 2
}
