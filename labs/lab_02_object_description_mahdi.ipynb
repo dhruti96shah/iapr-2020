{
 "cells": [
  {
   "cell_type": "markdown",
   "metadata": {},
   "source": [
    "# [IAPR 2020:][iapr2020] Lab 2 ‒  Object description\n",
    "\n",
    "**Authors:** first_name_1 last_name_1, first_name_2 last_name_2, first_name_3 last_name_3  \n",
    "**Due date:** 24.04.2020\n",
    "\n",
    "[iapr2020]: https://github.com/LTS5/iapr-2020"
   ]
  },
  {
   "cell_type": "markdown",
   "metadata": {},
   "source": [
    "## Extract relevant data\n",
    "We first need to extract the `lab-02-data.tar.gz` archive.\n",
    "To this end, we use the [tarfile] module from the Python standard library.\n",
    "\n",
    "[tarfile]: https://docs.python.org/3.6/library/tarfile.html"
   ]
  },
  {
   "cell_type": "code",
   "execution_count": 55,
   "metadata": {
    "pycharm": {
     "is_executing": false
    }
   },
   "outputs": [],
   "source": [
    "import tarfile\n",
    "import os\n",
    "\n",
    "data_base_path = os.path.join(os.pardir, 'data')\n",
    "data_folder = 'lab-02-data'\n",
    "tar_path = os.path.join(data_base_path, data_folder + '.tar.gz')\n",
    "with tarfile.open(tar_path, mode='r:gz') as tar:\n",
    "    tar.extractall(path=data_base_path)"
   ]
  },
  {
   "cell_type": "markdown",
   "metadata": {},
   "source": [
    "## Part 1\n",
    "In the `lab-02-data/part1` folder, you will find 28x28 grey-scale pictures of handwritten \"0\" and \"1\".\n",
    "These digits have been extracted from MNIST dataset (http://yann.lecun.com/exdb/mnist/).\n",
    "\n",
    "Your goal is to extract, from each of those images, a 2-dimensional feature vector (i.e. 2 features) and to plot them all on a 2D graph.\n",
    "If you have chosen good features, the vectors of the \"0\"'s should nicely cluster in one part of the plane and those of the \"1\"'s in another.\n",
    "\n",
    "Please try first the Fourier Descriptors.\n",
    "You can make several attempts: e.g. with and without invariance to rotation, translation, scaling, etc.\n",
    "You can also for instance rotate the images and assess the invariance in rotation.\n",
    "\n",
    "**Note:** for the Fourier descriptors, the u_k signal has to be constructed by following the contour point after point.\n",
    "Some pre-processing (image binarization, possibly some Mathematical Morphology) might be useful.\n",
    "\n",
    "Then feel free to try other features, the more you try, the better it will be (for you)."
   ]
  },
  {
   "cell_type": "markdown",
   "metadata": {},
   "source": [
    "### 1.1 Data visualization"
   ]
  },
  {
   "cell_type": "code",
   "execution_count": 56,
   "metadata": {
    "pycharm": {
     "is_executing": false
    }
   },
   "outputs": [
    {
     "data": {
      "text/plain": "<Figure size 864x216 with 20 Axes>",
      "image/png": "[encoded data removed]"
     },
     "metadata": {
      "needs_background": "light"
     },
     "output_type": "display_data"
    }
   ],
   "source": [
    "import skimage.io\n",
    "import matplotlib.pyplot as plt\n",
    "%matplotlib inline\n",
    "\n",
    "# Load images\n",
    "data_base_path = os.path.join(os.pardir, 'data')\n",
    "data_folder = 'lab-02-data'\n",
    "#  Load zeros\n",
    "zeros_path = os.path.join(data_base_path, data_folder, 'part1', '0')\n",
    "zeros_names = [nm for nm in os.listdir(zeros_path) if '.png' in nm]  # make sure to only load .png\n",
    "zeros_names.sort()  # sort file names\n",
    "ic = skimage.io.imread_collection([os.path.join(zeros_path, nm) for nm in zeros_names])\n",
    "zeros_im = skimage.io.concatenate_images(ic)\n",
    "#  Load ones\n",
    "ones_path = os.path.join(data_base_path, data_folder, 'part1', '1')\n",
    "ones_names = [nm for nm in os.listdir(ones_path) if '.png' in nm]  # make sure to only load .png\n",
    "ones_names.sort()  # sort file names\n",
    "ic = skimage.io.imread_collection(([os.path.join(ones_path, nm) for nm in ones_names]))\n",
    "ones_im = skimage.io.concatenate_images(ic)\n",
    "\n",
    "# Plot images\n",
    "fig, axes = plt.subplots(2, len(zeros_im), figsize=(12, 3))\n",
    "for ax, im, nm in zip(axes[0], zeros_im, zeros_names):\n",
    "    ax.imshow(im, cmap='gray')\n",
    "    ax.axis('off')\n",
    "    ax.set_title(nm)\n",
    "for ax, im, nm in zip(axes[1], ones_im, ones_names):\n",
    "    ax.imshow(im, cmap='gray')\n",
    "    ax.axis('off')\n",
    "    ax.set_title(nm)"
   ]
  },
  {
   "cell_type": "markdown",
   "metadata": {},
   "source": [
    "### 1.2 Fourier descriptors\n",
    "Add your implementation and discussion"
   ]
  },
  {
   "cell_type": "markdown",
   "metadata": {},
   "source": [
    "### 1.3 Additional method(s)\n",
    "\n",
    "#### 1.3.1 Simple region-based descriptors\n",
    "\n",
    "Here we analyse simple descriptors that depend on the object region :_region based descriptors_."
   ]
  },
  {
   "cell_type": "code",
   "execution_count": 57,
   "outputs": [],
   "source": [
    "import cv2\n",
    "from skimage import measure, transform, morphology\n",
    "import numpy as np\n",
    "from scipy import ndimage\n",
    "from skimage import morphology\n",
    "from skimage import measure\n"
   ],
   "metadata": {
    "collapsed": false,
    "pycharm": {
     "name": "#%%\n",
     "is_executing": false
    }
   }
  },
  {
   "cell_type": "code",
   "execution_count": 58,
   "outputs": [],
   "source": [
    "# Preparation for plotting features\n",
    "def rotation(image):\n",
    "    '''\n",
    "    Applying rotation to get more images.\n",
    "    A rotation affect the phase of all the descriptors by the same amount, and does not modify their amplitude\n",
    "    '''\n",
    "    rotate90d = [transform.rotate(i, 90, resize=False, preserve_range=True).astype('uint8') for i in image]\n",
    "    rotate180d = [transform.rotate(i, 180, resize=False, preserve_range=True).astype('uint8') for i in image]\n",
    "    rotate270d = [transform.rotate(i, 270, resize=False, preserve_range=True).astype('uint8') for i in image]\n",
    "    return  list(image) + rotate90d + rotate180d + rotate270d\n",
    "\n",
    "def featureImages(im, f1, f2):\n",
    "    imageRotated = rotation(im)\n",
    "    features = []\n",
    "    for i in imageRotated:\n",
    "        a1 = f1(i)\n",
    "        a2 = f2(i)\n",
    "        features.append([a1, a2])\n",
    "    features = np.array(features)\n",
    "    return features, [f1.__name__, f2.__name__]\n",
    "\n",
    "def _pltF(imFeatures, features, labels):\n",
    "    plt.figure(figsize=(8,8))\n",
    "    for f, l, c in zip(imFeatures, labels, ['r', 'b']):\n",
    "        plt.scatter(f[:,0], f[:,1], label=l, c=c, s=50)\n",
    "    plt.xlabel(features[0])\n",
    "    plt.ylabel(features[1])\n",
    "    plt.legend()\n",
    "    plt.grid(True)\n",
    "    plt.title('{} vs {} descriptors'.format(features[0], features[1]))\n",
    "    \n",
    "def plotFeatures(method1, method2):\n",
    "    listImages = [zeros_im, ones_im]\n",
    "    listImagesResult = []\n",
    "    for im in listImages:\n",
    "        imF, fName = featureImages(im, method1, method2)\n",
    "        listImagesResult.append(imF)\n",
    "    _pltF(listImagesResult, fName, range(len(listImages)))"
   ],
   "metadata": {
    "collapsed": false,
    "pycharm": {
     "name": "#%%\n",
     "is_executing": false
    }
   }
  },
  {
   "cell_type": "markdown",
   "source": [
    "##### 1.3.1.1 Compacity\n",
    "\n",
    "Compacity is the ratio of perimeter square to the object area. It describes compactness of the object. For example, \n",
    "circle has the minimum compacity. Compycity is invariant to the rotation. "
   ],
   "metadata": {
    "collapsed": false
   }
  },
  {
   "cell_type": "code",
   "execution_count": 59,
   "outputs": [],
   "source": [
    "def compacity(image):\n",
    "    _,thresh1 = cv2.threshold(image,40,255,cv2.THRESH_BINARY)\n",
    "    P = measure.perimeter(thresh1>0, neighbourhood=1)\n",
    "    A = np.count_nonzero(thresh1)\n",
    "    C = (P**2)/A\n",
    "    return C"
   ],
   "metadata": {
    "collapsed": false,
    "pycharm": {
     "name": "#%%\n",
     "is_executing": false
    }
   }
  },
  {
   "cell_type": "markdown",
   "source": [
    "##### 1.3.1.2 Elongation\n",
    "\n",
    "Elongation is the ratio between  the maximum diameter of the object and its minimum diameter perpendicular to it. It is \n",
    "also invariant to the object rotation."
   ],
   "metadata": {
    "collapsed": false
   }
  },
  {
   "cell_type": "code",
   "execution_count": 60,
   "outputs": [],
   "source": [
    "def elongation(image):\n",
    "    image = ndimage.grey_opening(image,size = (2,2))\n",
    "    _,thresh1 = cv2.threshold(image,40,255,cv2.THRESH_BINARY)\n",
    "    moment = cv2.moments(thresh1)\n",
    "    xcoor = moment['mu20'] + moment['mu02']\n",
    "    ycoor = 4 * moment['mu11']**2 + (moment['mu20'] - moment['mu02'])**2\n",
    "    return (xcoor + ycoor**0.5) / (xcoor - ycoor**0.5)\n"
   ],
   "metadata": {
    "collapsed": false,
    "pycharm": {
     "name": "#%%\n",
     "is_executing": false
    }
   }
  },
  {
   "cell_type": "markdown",
   "source": [
    "##### 1.3.1.3 Rectangularity\n",
    "Rectangularity is the ratio between the object area and its largest circumscript rectangle. "
   ],
   "metadata": {
    "collapsed": false
   }
  },
  {
   "cell_type": "code",
   "execution_count": 61,
   "outputs": [],
   "source": [
    "def rectangularity(image):\n",
    "    _,thresh1 = cv2.threshold(image,40,255,cv2.THRESH_BINARY)\n",
    "    _, contour, _ = cv2.findContours(image,cv2.RETR_TREE,cv2.CHAIN_APPROX_SIMPLE)\n",
    "    # area = cv2.contourArea(contour[0])\n",
    "    area = np.count_nonzero(thresh1)\n",
    "    xcoor, ycoor, width, height = cv2.boundingRect(contour[0])\n",
    "    rect_area = width*height\n",
    "    rectangularitY = float(area)/rect_area\n",
    "    return rectangularitY"
   ],
   "metadata": {
    "collapsed": false,
    "pycharm": {
     "name": "#%%\n",
     "is_executing": false
    }
   }
  },
  {
   "cell_type": "markdown",
   "source": [
    "##### 1.3.1.4 Perimeter\n",
    "\n",
    "Perimeter of the detected contour for each object is another desciptor that we would like to examine.\n",
    "We first binarize each image with a threshold, and then calculate the perimeter with 1 neighbour connectivity on binary image. "
   ],
   "metadata": {
    "collapsed": false
   }
  },
  {
   "cell_type": "code",
   "execution_count": 62,
   "outputs": [],
   "source": [
    "def perimeter(image):\n",
    "    _,thresh1 = cv2.threshold(image,40,255,cv2.THRESH_BINARY)\n",
    "    perimeter = measure.perimeter(thresh1>0, neighbourhood=1)\n",
    "    return perimeter"
   ],
   "metadata": {
    "collapsed": false,
    "pycharm": {
     "name": "#%%\n",
     "is_executing": false
    }
   }
  },
  {
   "cell_type": "markdown",
   "source": [
    "##### 1.3.1.5 results and discussion\n",
    "* __compacity__ vs __elongation__:<br />\n",
    "According to the plot bellow compacity of 0 is larger than compacity of 1 values.  \n",
    "Furthermore, elongation of number 1 images has larger variance than elongation of number 0. \n",
    "Compacity is also larger than circle compacity (4$\\pi$) which is validated by our results.\n",
    "Two image sets are separable in the 2D plot. Therefore, both compacity and elongation are appropriate descriptors for our images. "
   ],
   "metadata": {
    "collapsed": false
   }
  },
  {
   "cell_type": "code",
   "execution_count": 63,
   "outputs": [
    {
     "data": {
      "text/plain": "<Figure size 576x576 with 1 Axes>",
      "image/png": "[encoded data removed]"
     },
     "metadata": {
      "needs_background": "light"
     },
     "output_type": "display_data"
    }
   ],
   "source": [
    "plotFeatures(compacity, elongation)"
   ],
   "metadata": {
    "collapsed": false,
    "pycharm": {
     "name": "#%%\n",
     "is_executing": false
    }
   }
  },
  {
   "cell_type": "markdown",
   "source": [
    "* __compacity__ vs __rectangularity__:<br />\n",
    "According to the result, rectangularity of two image sets is not separate enough. We can conclude that rectangularity is not \n",
    "an appropriate descriptor for our data."
   ],
   "metadata": {
    "collapsed": false
   }
  },
  {
   "cell_type": "code",
   "execution_count": 64,
   "outputs": [
    {
     "data": {
      "text/plain": "<Figure size 576x576 with 1 Axes>",
      "image/png": "[encoded data removed]"
     },
     "metadata": {
      "needs_background": "light"
     },
     "output_type": "display_data"
    }
   ],
   "source": [
    "plotFeatures(compacity, rectangularity)"
   ],
   "metadata": {
    "collapsed": false,
    "pycharm": {
     "name": "#%%\n",
     "is_executing": false
    }
   }
  },
  {
   "cell_type": "markdown",
   "source": [
    "* __compacity__ vs __perimeter__:<br />\n",
    "The result bellow confirms that perimeter is an appropriate descriptor for our data. Indeed, perimeter values for iamges \n",
    "number 1 and 0 are separate with each other. We can conclude that using both compacity and perimeter can provide us the \n",
    "best simple region based descriptors for our dataset."
   ],
   "metadata": {
    "collapsed": false
   }
  },
  {
   "cell_type": "code",
   "execution_count": 65,
   "outputs": [
    {
     "data": {
      "text/plain": "<Figure size 576x576 with 1 Axes>",
      "image/png": "[encoded data removed]"
     },
     "metadata": {
      "needs_background": "light"
     },
     "output_type": "display_data"
    }
   ],
   "source": [
    "plotFeatures(compacity, perimeter)"
   ],
   "metadata": {
    "collapsed": false,
    "pycharm": {
     "name": "#%%\n",
     "is_executing": false
    }
   }
  },
  {
   "cell_type": "markdown",
   "source": [
    "#### 1.3.2 Skeleton\n",
    "\n",
    "Here we define two skeletonization algorithms and then define and examine\n",
    "descriptors to separate numbers.\n",
    "\n",
    "##### 1.3.2.1 Medial-xis Skeletonization\n",
    "\n",
    "We first binarize the image and inside the foreground which is supposed to contain pixels of the number we find the set of all points that each has more than\n",
    "one closes point on the forwground boundary. This will render one-pixel wide skeleton of the object with the same connectivity as the original object. \n",
    "The result also is refered as _topological skeleton_:   "
   ],
   "metadata": {
    "collapsed": false
   }
  },
  {
   "cell_type": "code",
   "execution_count": 66,
   "outputs": [
    {
     "data": {
      "text/plain": "<Figure size 864x216 with 20 Axes>",
      "image/png": "[encoded data removed]"
     },
     "metadata": {
      "needs_background": "light"
     },
     "output_type": "display_data"
    }
   ],
   "source": [
    "from skimage.morphology import medial_axis, skeletonize\n",
    "import cv2\n",
    "import numpy as np\n",
    "\n",
    "skeleton_zero=[]\n",
    "median_skeleton_zero=[]\n",
    "median_skeleton_zero_r = []\n",
    "Binary=[]\n",
    "for im, nm in zip(zeros_im, zeros_names):\n",
    "    # Transforming image to binary image\n",
    "    ret,thresh = cv2.threshold(im,230,255,cv2.THRESH_BINARY)\n",
    "    np_img = np.array(thresh)\n",
    "    np_img[np_img > 0] = 1\n",
    "    # Skeletonizing the image\n",
    "    skeleton_zero.append(skeletonize(np_img))\n",
    "    skel, r = medial_axis(np_img, return_distance=True)\n",
    "    median_skeleton_zero_r.append(np.sum(r[r>1]))\n",
    "    \n",
    "    median_skeleton_zero.append(medial_axis(np_img))\n",
    "\n",
    "skeleton_one=[]\n",
    "median_skeleton_one = []\n",
    "median_skeleton_one_r = []\n",
    "Binary=[]\n",
    "for im, nm in zip(ones_im, ones_names):\n",
    "    # Transforming image to binary image\n",
    "    ret,thresh = cv2.threshold(im,230,255,cv2.THRESH_BINARY)\n",
    "    np_img = np.array(thresh)\n",
    "    np_img[np_img > 0] = 1\n",
    "    # Skeletonizing the image\n",
    "    skeleton_one.append(skeletonize(np_img))\n",
    "    skel, r = medial_axis(np_img, return_distance=True)\n",
    "    median_skeleton_one_r.append(np.sum(r[r>1]))\n",
    "    \n",
    "    median_skeleton_one.append(medial_axis(np_img))\n",
    "\n",
    "\n",
    "# Plotting the skeletons\n",
    "fig, axes = plt.subplots(2, len(zeros_im), figsize=(12, 3)) \n",
    "plt.suptitle('Median-axis Skeleton')\n",
    "for ax, im, nm in zip(axes[0], median_skeleton_zero, zeros_names):\n",
    "    ax.imshow(im, cmap='magma')\n",
    "    ax.axis('off')\n",
    "    ax.set_title(nm)\n",
    "for ax, im, nm in zip(axes[1], median_skeleton_one, ones_names):\n",
    "    ax.imshow(im, cmap='magma')\n",
    "    ax.axis('off')\n",
    "    ax.set_title(nm)"
   ],
   "metadata": {
    "collapsed": false,
    "pycharm": {
     "name": "#%%\n",
     "is_executing": false
    }
   }
  },
  {
   "cell_type": "markdown",
   "source": [
    "Obviously, one descriptor that inspires extracting out ot the median skeleton is total number of the points in the skeleton.\n",
    "The other descriptor that we utilize is the distance sum of the points in the object which are farther than 1 pixel from \n",
    "the background. This can be achieved by a threshold on the ditanse transform _r_ corresponding the skeleton."
   ],
   "metadata": {
    "collapsed": false,
    "pycharm": {
     "name": "#%% md\n"
    }
   }
  },
  {
   "cell_type": "code",
   "execution_count": 67,
   "outputs": [
    {
     "data": {
      "text/plain": "<Figure size 432x288 with 1 Axes>",
      "image/png": "[encoded data removed]"
     },
     "metadata": {
      "needs_background": "light"
     },
     "output_type": "display_data"
    }
   ],
   "source": [
    "# Removing the first and last rows and columns from images\n",
    "_,h,w= np.shape(median_skeleton_zero)\n",
    "h=h-1\n",
    "w=w-1\n",
    "skeleton_zero_check=median_skeleton_zero[:][1:h][1:w]\n",
    "\n",
    "# Initilizing the variables\n",
    "Total_number_of_points0=[]\n",
    "Total_number_of_corners0=[]\n",
    "\n",
    "# Main for loop for feature extraction of zeros\n",
    "for im in np.arange(0,np.shape(median_skeleton_zero)[0],1):\n",
    "    Number_of_points=0\n",
    "    Number_of_corners=0\n",
    "    vertical_line=[]\n",
    "    for x in np.arange(1,h,1):\n",
    "        for y in np.arange(1,w,1):\n",
    "            if median_skeleton_zero[im][x][y]==True:\n",
    "                 # Extracting the number of points\n",
    "                Number_of_points=Number_of_points+1\n",
    "                s=0\n",
    "                for a in np.arange(-1,1,1):\n",
    "                    for b in np.arange(-1,1,1):\n",
    "                        if median_skeleton_zero[im][x+a][y+b]== True:\n",
    "                            s=s+1\n",
    "                if s==2:\n",
    "                    # Extracting the number of corners\n",
    "                    Number_of_corners=Number_of_corners+1\n",
    "\n",
    "    Total_number_of_points0.append(Number_of_points)\n",
    "    Total_number_of_corners0.append(Number_of_corners)\n",
    "    \n",
    "# Removing the first and last rows and columns from images    \n",
    "_,h,w= np.shape(median_skeleton_one)\n",
    "h=h-1\n",
    "w=w-1\n",
    "skeleton_one_check=median_skeleton_one[:][1:h][1:w]\n",
    "\n",
    "# Initilizing the variables\n",
    "Total_number_of_points1=[]\n",
    "Total_number_of_corners1=[]\n",
    "\n",
    "# Main for loop for feature extraction of ones\n",
    "for im in np.arange(0,np.shape(median_skeleton_one)[0],1):\n",
    "    Number_of_points=0\n",
    "    Number_of_corners=0\n",
    "    for x in np.arange(1,h,1):\n",
    "        for y in np.arange(1,w,1):\n",
    "            if median_skeleton_one[im][x][y]==True:\n",
    "                # Extracting the number of points\n",
    "                Number_of_points=Number_of_points+1\n",
    "                s=0\n",
    "                for a in np.arange(-1,1,1):\n",
    "                    for b in np.arange(-1,1,1):\n",
    "                        if median_skeleton_one[im][x+a][y+b]== True:\n",
    "                            s=s+1\n",
    "                if s==2:\n",
    "                    # Extracting the number of corners\n",
    "                    Number_of_corners=Number_of_corners+1\n",
    "    Total_number_of_points1.append(Number_of_points)\n",
    "    Total_number_of_corners1.append(Number_of_corners) \n",
    "\n",
    "# Plotting the features plot\n",
    "Plot_ones = plt.plot(Total_number_of_points1,median_skeleton_one_r, \"o\", label=\"1\", c='b')\n",
    "Plot_zeros = plt.plot(Total_number_of_points0,median_skeleton_zero_r, \"o\", label=\"0\", c='r')\n",
    "plt.legend(loc=4)\n",
    "plt.xlabel('Total Number of Points in Skeleton')\n",
    "plt.ylabel('Sum of further object points from the border')\n",
    "plt.title('Median-axis Skeleton based Descriptions')\n",
    "plt.grid(True)\n",
    "plt.show()"
   ],
   "metadata": {
    "collapsed": false,
    "pycharm": {
     "name": "#%%\n",
     "is_executing": false
    }
   }
  },
  {
   "cell_type": "markdown",
   "source": [
    "The result indicates that indeed selected descriptors can separate zero and one numbers. It shows that the total number of \n",
    "points in the median-axis skeleton is quite separating two classes regardless of existing outliers. Furthermore, the further\n",
    " object points sum from the borders of each object is overally higher for the zero objects which was expected inasmuch as \n",
    " the object one is thinner than zero."
   ],
   "metadata": {
    "collapsed": false
   }
  },
  {
   "cell_type": "markdown",
   "metadata": {},
   "source": [
    "##### 1.3.2.2 Thinning Skeletonization\n",
    "\n",
    "Here we utilize _fast parallel algorithm for thinning digital patterns_\n",
    "invented by Zha et al. This algorithm works by making successive passes of the image, \n",
    "removing pixels on object borders. This continues until no more pixels can be removed.\n",
    " The image is correlated with a mask that assigns each pixel a number in one range of numbers \n",
    " corresponding to each possible pattern of its 8 neighbouring pixels. Afterwards, a look up table is\n",
    "  used to assign the pixels a pattern id, which are selectively removed during the iterations."
   ]
  },
  {
   "cell_type": "code",
   "execution_count": 68,
   "outputs": [
    {
     "data": {
      "text/plain": "<Figure size 864x216 with 20 Axes>",
      "image/png": "[encoded data removed]"
     },
     "metadata": {
      "needs_background": "light"
     },
     "output_type": "display_data"
    }
   ],
   "source": [
    "from skimage.morphology import medial_axis, skeletonize\n",
    "import cv2\n",
    "import numpy as np\n",
    "\n",
    "skeleton_zero=[]\n",
    "median_skeleton_zero=[]\n",
    "median_skeleton_zero_r = []\n",
    "Binary=[]\n",
    "for im, nm in zip(zeros_im, zeros_names):\n",
    "    # Transforming image to binary image\n",
    "    ret,thresh = cv2.threshold(im,230,255,cv2.THRESH_BINARY)\n",
    "    np_img = np.array(thresh)\n",
    "    np_img[np_img > 0] = 1\n",
    "    # Skeletonizing the image\n",
    "    skeleton_zero.append(skeletonize(np_img))\n",
    "\n",
    "skeleton_one=[]\n",
    "Binary=[]\n",
    "for im, nm in zip(ones_im, ones_names):\n",
    "    # Transforming image to binary image\n",
    "    ret,thresh = cv2.threshold(im,230,255,cv2.THRESH_BINARY)\n",
    "    np_img = np.array(thresh)\n",
    "    np_img[np_img > 0] = 1\n",
    "    # Skeletonizing the image\n",
    "    skeleton_one.append(skeletonize(np_img))\n",
    "\n",
    "# Plotting the skeletons\n",
    "fig, axes = plt.subplots(2, len(zeros_im), figsize=(12, 3)) \n",
    "plt.suptitle('Thinning Skeleton')\n",
    "for ax, im, nm in zip(axes[0], skeleton_zero, zeros_names):\n",
    "    ax.imshow(im, cmap='gist_ncar')\n",
    "    ax.axis('off')\n",
    "    ax.set_title(nm)\n",
    "for ax, im, nm in zip(axes[1], skeleton_one, ones_names):\n",
    "    ax.imshow(im, cmap='gist_ncar')\n",
    "    ax.axis('off')\n",
    "    ax.set_title(nm)"
   ],
   "metadata": {
    "collapsed": false,
    "pycharm": {
     "name": "#%%\n",
     "is_executing": false
    }
   }
  },
  {
   "cell_type": "markdown",
   "source": [
    "Now we have to extract two features from the skeletonized images to perform the description.\n",
    " The first feature is the number of corner pixels in each image. The corners are the yellow pixels\n",
    "  that just have one yellow neighbor pixel. In order to count the corner pixels, we find the points\n",
    "   which belong to skeleton and check all their neighbors. If there is just one neighbor pixel which\n",
    "    also belongs to skeleton, we have to count that point as a corner.\n",
    "\n",
    "The second feature that we used is the total number of skeleton pixels and we expect to have a higher\n",
    " number for the zeros.\n"
   ],
   "metadata": {
    "collapsed": false,
    "pycharm": {
     "name": "#%% md\n"
    }
   }
  },
  {
   "cell_type": "code",
   "execution_count": 69,
   "outputs": [
    {
     "data": {
      "text/plain": "<Figure size 432x288 with 1 Axes>",
      "image/png": "[encoded data removed]"
     },
     "metadata": {
      "needs_background": "light"
     },
     "output_type": "display_data"
    }
   ],
   "source": [
    "# Removing the first and last rows and columns from images\n",
    "_,h,w= np.shape(skeleton_zero)\n",
    "h=h-1\n",
    "w=w-1\n",
    "skeleton_zero_check=skeleton_zero[:][1:h][1:w]\n",
    "\n",
    "# Initilizing the variables\n",
    "Total_number_of_points0=[]\n",
    "Total_number_of_corners0=[]\n",
    "\n",
    "# Main for loop for feature extraction of zeros\n",
    "for im in np.arange(0,np.shape(skeleton_zero)[0],1):\n",
    "    Number_of_points=0\n",
    "    Number_of_corners=0\n",
    "    vertical_line=[]\n",
    "    for x in np.arange(1,h,1):\n",
    "        for y in np.arange(1,w,1):\n",
    "            if skeleton_zero[im][x][y]==True:\n",
    "                 # Extracting the number of points\n",
    "                Number_of_points=Number_of_points+1\n",
    "                s=0\n",
    "                for a in np.arange(-1,1,1):\n",
    "                    for b in np.arange(-1,1,1):\n",
    "                        if skeleton_zero[im][x+a][y+b]== True:\n",
    "                            s=s+1\n",
    "                if s==2:\n",
    "                    # Extracting the number of corners\n",
    "                    Number_of_corners=Number_of_corners+1\n",
    "\n",
    "    Total_number_of_points0.append(Number_of_points)\n",
    "    Total_number_of_corners0.append(Number_of_corners)\n",
    "    \n",
    "# Removing the first and last rows and columns from images    \n",
    "_,h,w= np.shape(skeleton_one)\n",
    "h=h-1\n",
    "w=w-1\n",
    "skeleton_one_check=skeleton_one[:][1:h][1:w]\n",
    "\n",
    "# Initilizing the variables\n",
    "Total_number_of_points1=[]\n",
    "Total_number_of_corners1=[]\n",
    "\n",
    "# Main for loop for feature extraction of ones\n",
    "for im in np.arange(0,np.shape(skeleton_one)[0],1):\n",
    "    Number_of_points=0\n",
    "    Number_of_corners=0\n",
    "    for x in np.arange(1,h,1):\n",
    "        for y in np.arange(1,w,1):\n",
    "            if skeleton_one[im][x][y]==True:\n",
    "                # Extracting the number of points\n",
    "                Number_of_points=Number_of_points+1\n",
    "                s=0\n",
    "                for a in np.arange(-1,1,1):\n",
    "                    for b in np.arange(-1,1,1):\n",
    "                        if skeleton_one[im][x+a][y+b]== True:\n",
    "                            s=s+1\n",
    "                if s==2:\n",
    "                    # Extracting the number of corners\n",
    "                    Number_of_corners=Number_of_corners+1\n",
    "    Total_number_of_points1.append(Number_of_points)\n",
    "    Total_number_of_corners1.append(Number_of_corners) \n",
    "\n",
    "# Plotting the features plot\n",
    "Plot_ones = plt.plot(Total_number_of_points1,Total_number_of_corners1, \"o\", label=\"1\", c='b')\n",
    "Plot_zeros = plt.plot(Total_number_of_points0,Total_number_of_corners0, \"o\", label=\"0\", c='r')\n",
    "plt.legend(loc=4)\n",
    "plt.xlabel('Total Number of Points in Skeleton')\n",
    "plt.ylabel('Total Number of Corners in Skeleton')\n",
    "plt.title('Thinning Skeleton based Descriptions')\n",
    "plt.grid(True)\n",
    "plt.show()"
   ],
   "metadata": {
    "collapsed": false,
    "pycharm": {
     "name": "#%%\n",
     "is_executing": false
    }
   }
  },
  {
   "cell_type": "markdown",
   "source": [
    " According to the result above, our skeleton method performs a good description and separation for zero and one numbers.\n",
    "  In fact, _fast parallel algorithm for thinning digital patterns_ provides smoother skeleton; thereafter, the number of corners\n",
    "   is also a powerful feature to separate objects utilizing thinning skeleton. Nevertheless, there are outliers due to the \n",
    "   different handwriting style."
   ],
   "metadata": {
    "collapsed": false,
    "pycharm": {
     "name": "#%% md\n"
    }
   }
  },
  {
   "cell_type": "markdown",
   "source": [
    "## Part 2\n",
    "The `lab-02-data/part2` folder contains grey-scale pictures of handwritten \"2\" and \"3\".\n",
    "Extract the same feature (typically 2 Fourier descriptors) as in part 1 also on these images and plot them on the same graph as the features of the \"0\" and \"1\".\n",
    "Is it possible to discriminate all these 4 digits with a 2-dimensional feature vector?"
   ],
   "metadata": {
    "collapsed": false
   }
  },
  {
   "cell_type": "markdown",
   "source": [
    "### 2.1 Data visualization"
   ],
   "metadata": {
    "collapsed": false
   }
  },
  {
   "cell_type": "code",
   "execution_count": 70,
   "metadata": {
    "pycharm": {
     "is_executing": false
    }
   },
   "outputs": [
    {
     "data": {
      "text/plain": "<Figure size 864x216 with 20 Axes>",
      "image/png": "[encoded data removed]"
     },
     "metadata": {
      "needs_background": "light"
     },
     "output_type": "display_data"
    }
   ],
   "source": [
    "#  Load zeros\n",
    "twos_path = os.path.join(data_base_path, data_folder, 'part2', '2')\n",
    "twos_names = [nm for nm in os.listdir(twos_path) if '.png' in nm]  # make sure to only load .png\n",
    "twos_names.sort()  # sort file names\n",
    "ic = skimage.io.imread_collection([os.path.join(twos_path, nm) for nm in twos_names])\n",
    "twos_im = skimage.io.concatenate_images(ic)\n",
    "#  Load ones\n",
    "threes_path = os.path.join(data_base_path, data_folder, 'part2', '3')\n",
    "threes_names = [nm for nm in os.listdir(threes_path) if '.png' in nm]  # make sure to only load .png\n",
    "threes_names.sort()  # sort file names\n",
    "ic = skimage.io.imread_collection(([os.path.join(threes_path, nm) for nm in threes_names]))\n",
    "threes_im = skimage.io.concatenate_images(ic)\n",
    "\n",
    "# Plot images\n",
    "fig, axes = plt.subplots(2, len(twos_im), figsize=(12, 3))\n",
    "for ax, im, nm in zip(axes[0], twos_im, twos_names):\n",
    "    ax.imshow(im, cmap='gray')\n",
    "    ax.axis('off')\n",
    "    ax.set_title(nm)\n",
    "for ax, im, nm in zip(axes[1], threes_im, threes_names):\n",
    "    ax.imshow(im, cmap='gray')\n",
    "    ax.axis('off')\n",
    "    ax.set_title(nm)"
   ]
  },
  {
   "cell_type": "markdown",
   "metadata": {},
   "source": [
    "### 2.2 Additional method(s) and conclusion\n",
    "Add your implementations and discussions here"
   ]
  },
  {
   "cell_type": "code",
   "execution_count": 71,
   "metadata": {
    "pycharm": {
     "is_executing": false,
     "name": "#%%\n"
    }
   },
   "outputs": [],
   "source": [
    "# Harris Corner Detector\n",
    "# #%% md\n",
    "###### 1.3.1.4 Corner numbers\n",
    "#\n",
    "#Here \n",
    "##%%\n",
    "# def corner_counting(image):\n",
    "#     image = ndimage.grey_opening(image,size = (2,2))\n",
    "#     _,thresh1 = cv2.threshold(image,40,255,cv2.THRESH_BINARY)\n",
    "#     # harris_dst (--> output of Harris edge detector) – Image to store the Harris detector responses.\n",
    "#     harris_dst = cv2.cornerHarris(thresh1,2,3,0.04)\n",
    "#     # Threshold for an optimal value, threshold value may vary depending on the image.\n",
    "#     numbers = thresh1[harris_dst>0.01*harris_dst.max()].shape \n",
    "#     return numbers[0]\n",
    "# \n",
    "# plotFeatures(corner_counting, compacity)\n",
    "# \n"
   ]
  },
  {
   "cell_type": "code",
   "execution_count": 71,
   "outputs": [],
   "source": [
    "\n"
   ],
   "metadata": {
    "collapsed": false,
    "pycharm": {
     "name": "#%%\n",
     "is_executing": false
    }
   }
  }
 ],
 "metadata": {
  "kernelspec": {
   "display_name": "Python 3",
   "language": "python",
   "name": "python3"
  },
  "language_info": {
   "codemirror_mode": {
    "name": "ipython",
    "version": 3
   },
   "file_extension": ".py",
   "mimetype": "text/x-python",
   "name": "python",
   "nbconvert_exporter": "python",
   "pygments_lexer": "ipython3",
   "version": "3.6.8"
  },
  "pycharm": {
   "stem_cell": {
    "cell_type": "raw",
    "source": [],
    "metadata": {
     "collapsed": false
    }
   }
  }
 },
 "nbformat": 4,
 "nbformat_minor": 2
}